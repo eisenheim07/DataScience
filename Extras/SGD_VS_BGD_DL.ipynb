{
 "cells": [
  {
   "cell_type": "code",
   "execution_count": 1,
   "id": "0d586822",
   "metadata": {},
   "outputs": [],
   "source": [
    "# Gradient Descent AND Stochastic Gradient Descent"
   ]
  },
  {
   "cell_type": "code",
   "execution_count": 2,
   "id": "10d7c48f",
   "metadata": {},
   "outputs": [],
   "source": [
    "import pandas as pd\n",
    "import numpy as np\n",
    "from sklearn import preprocessing\n",
    "from matplotlib import pyplot as plt\n",
    "import random"
   ]
  },
  {
   "cell_type": "code",
   "execution_count": 3,
   "id": "37032f41",
   "metadata": {},
   "outputs": [
    {
     "data": {
      "text/html": [
       "<div>\n",
       "<style scoped>\n",
       "    .dataframe tbody tr th:only-of-type {\n",
       "        vertical-align: middle;\n",
       "    }\n",
       "\n",
       "    .dataframe tbody tr th {\n",
       "        vertical-align: top;\n",
       "    }\n",
       "\n",
       "    .dataframe thead th {\n",
       "        text-align: right;\n",
       "    }\n",
       "</style>\n",
       "<table border=\"1\" class=\"dataframe\">\n",
       "  <thead>\n",
       "    <tr style=\"text-align: right;\">\n",
       "      <th></th>\n",
       "      <th>area</th>\n",
       "      <th>bedrooms</th>\n",
       "      <th>price</th>\n",
       "    </tr>\n",
       "  </thead>\n",
       "  <tbody>\n",
       "    <tr>\n",
       "      <th>0</th>\n",
       "      <td>1056</td>\n",
       "      <td>2</td>\n",
       "      <td>39.07</td>\n",
       "    </tr>\n",
       "    <tr>\n",
       "      <th>1</th>\n",
       "      <td>2600</td>\n",
       "      <td>4</td>\n",
       "      <td>120.00</td>\n",
       "    </tr>\n",
       "    <tr>\n",
       "      <th>2</th>\n",
       "      <td>1440</td>\n",
       "      <td>3</td>\n",
       "      <td>62.00</td>\n",
       "    </tr>\n",
       "    <tr>\n",
       "      <th>3</th>\n",
       "      <td>1521</td>\n",
       "      <td>3</td>\n",
       "      <td>75.00</td>\n",
       "    </tr>\n",
       "    <tr>\n",
       "      <th>4</th>\n",
       "      <td>1200</td>\n",
       "      <td>2</td>\n",
       "      <td>51.00</td>\n",
       "    </tr>\n",
       "  </tbody>\n",
       "</table>\n",
       "</div>"
      ],
      "text/plain": [
       "   area  bedrooms   price\n",
       "0  1056         2   39.07\n",
       "1  2600         4  120.00\n",
       "2  1440         3   62.00\n",
       "3  1521         3   75.00\n",
       "4  1200         2   51.00"
      ]
     },
     "execution_count": 3,
     "metadata": {},
     "output_type": "execute_result"
    }
   ],
   "source": [
    "df = pd.read_csv(\"D:\\\\Python\\\\homeprices_banglore.csv\")\n",
    "df.head()"
   ]
  },
  {
   "cell_type": "code",
   "execution_count": 4,
   "id": "08d8b210",
   "metadata": {},
   "outputs": [],
   "source": [
    "sx = preprocessing.MinMaxScaler()\n",
    "sy = preprocessing.MinMaxScaler()"
   ]
  },
  {
   "cell_type": "code",
   "execution_count": 5,
   "id": "326a2a65",
   "metadata": {},
   "outputs": [
    {
     "data": {
      "text/plain": [
       "array([[0.08827586, 0.25      ],\n",
       "       [0.62068966, 0.75      ],\n",
       "       [0.22068966, 0.5       ]])"
      ]
     },
     "execution_count": 5,
     "metadata": {},
     "output_type": "execute_result"
    }
   ],
   "source": [
    "scaled_X = sx.fit_transform(df.drop('price', axis='columns'))\n",
    "scaled_X[:3]"
   ]
  },
  {
   "cell_type": "code",
   "execution_count": 6,
   "id": "c323a1f1",
   "metadata": {},
   "outputs": [
    {
     "data": {
      "text/plain": [
       "array([[0.05237037],\n",
       "       [0.65185185],\n",
       "       [0.22222222]])"
      ]
     },
     "execution_count": 6,
     "metadata": {},
     "output_type": "execute_result"
    }
   ],
   "source": [
    "scaled_y = sy.fit_transform(df.price.values.reshape(df.shape[0], 1))\n",
    "scaled_y[:3]"
   ]
  },
  {
   "cell_type": "code",
   "execution_count": 7,
   "id": "162f0b94",
   "metadata": {},
   "outputs": [
    {
     "name": "stdout",
     "output_type": "stream",
     "text": [
      "[0.99551317 0.99445655]\n",
      "Epoch: 0, w1: 0.9955131745567446, w2: 0.9944565536398468, bias: -0.009603223499361428, cost: 0.2768777174681\n"
     ]
    }
   ],
   "source": [
    "def gradientDescent(X, y, learning_rate, epochs, isTrue):\n",
    "    \n",
    "    weights = np.ones(X.shape[1])\n",
    "    bias = 0\n",
    "    n = X.shape[0]\n",
    "\n",
    "    cost_ = []\n",
    "    count = []\n",
    "    \n",
    "    if isTrue:\n",
    "        for i in range(1):\n",
    "            y_pred = np.dot(weights, X.T) + bias\n",
    "\n",
    "            dw = -(2/n)*(X.T.dot(y-y_pred))\n",
    "            db = -(2/n)*np.sum(y-y_pred)\n",
    "\n",
    "            weights = weights - learning_rate*dw\n",
    "            bias = bias - learning_rate*db\n",
    "            \n",
    "            print(weights)\n",
    "\n",
    "            cost = np.mean(np.square((y-y_pred)))\n",
    "\n",
    "            if i%10 == 0:\n",
    "                cost_.append(cost)\n",
    "                count.append(i)\n",
    "                print(f'Epoch: {i}, w1: {weights[0]}, w2: {weights[1]}, bias: {bias}, cost: {cost}')    \n",
    "    \n",
    "    else:\n",
    "        for i in range(epochs):\n",
    "            y_pred = np.dot(weights, X[random.randint(0, n-1)].T) + bias\n",
    "\n",
    "            dw = -(2/n)*(X[random.randint(0, n-1)].T.dot(y[random.randint(0, n-1)]-y_pred))\n",
    "            db = -(2/n)*np.sum(y[random.randint(0, n-1)]-y_pred)\n",
    "\n",
    "            weights = weights - learning_rate*dw\n",
    "            bias = bias - learning_rate*db\n",
    "\n",
    "            cost = np.mean(np.square((y[random.randint(0, n-1)]-y_pred)))\n",
    "\n",
    "            if i%100 == 0:\n",
    "                cost_.append(cost)\n",
    "                count.append(i)\n",
    "                print(f'Epoch: {i}, w1: {weights[0]}, w2: {weights[1]}, bias: {bias}, cost: {cost}')\n",
    "\n",
    "    return weights, bias, cost_, count\n",
    "                \n",
    "# FOR BATCH GRADIENT DESCENT\n",
    "weights, bias, cost_, count = gradientDescent(scaled_X, scaled_y.reshape(scaled_y.shape[0]), 0.01, 500, True)\n",
    "\n",
    "# FOR STOCHASTIC GRADIENT DESCENT\n",
    "# weights, bias, cost_, count = gradientDescent(scaled_X, scaled_y.reshape(scaled_y.shape[0]), 0.01, 10000, False)"
   ]
  },
  {
   "cell_type": "code",
   "execution_count": 8,
   "id": "a629cd8c",
   "metadata": {},
   "outputs": [
    {
     "data": {
      "text/plain": [
       "[<matplotlib.lines.Line2D at 0x27454181090>]"
      ]
     },
     "execution_count": 8,
     "metadata": {},
     "output_type": "execute_result"
    },
    {
     "data": {
      "image/png": "[encoded data removed]",
      "text/plain": [
       "<Figure size 640x480 with 1 Axes>"
      ]
     },
     "metadata": {},
     "output_type": "display_data"
    }
   ],
   "source": [
    "plt.xlabel(\"COUNT\")\n",
    "plt.ylabel(\"COST\")\n",
    "plt.plot(count, cost_)"
   ]
  },
  {
   "cell_type": "code",
   "execution_count": 29,
   "id": "e786e73a",
   "metadata": {},
   "outputs": [
    {
     "name": "stderr",
     "output_type": "stream",
     "text": [
      "D:\\anaconda3\\Lib\\site-packages\\sklearn\\base.py:464: UserWarning: X does not have valid feature names, but MinMaxScaler was fitted with feature names\n",
      "  warnings.warn(\n"
     ]
    },
    {
     "data": {
      "text/plain": [
       "76.13024431040726"
      ]
     },
     "execution_count": 29,
     "metadata": {},
     "output_type": "execute_result"
    }
   ],
   "source": [
    "def predict(area, rooms):\n",
    "    scaled_X = sx.transform([[area, rooms]])[0]\n",
    "    price = weights[0]*scaled_X[0] + weights[1]*scaled_X[1] + bias\n",
    "    return sy.inverse_transform([[price]])\n",
    "    \n",
    "predict(1056, 2)[0][0]"
   ]
  }
 ],
 "metadata": {
  "kernelspec": {
   "display_name": "Python 3 (ipykernel)",
   "language": "python",
   "name": "python3"
  },
  "language_info": {
   "codemirror_mode": {
    "name": "ipython",
    "version": 3
   },
   "file_extension": ".py",
   "mimetype": "text/x-python",
   "name": "python",
   "nbconvert_exporter": "python",
   "pygments_lexer": "ipython3",
   "version": "3.11.5"
  }
 },
 "nbformat": 4,
 "nbformat_minor": 5
}
