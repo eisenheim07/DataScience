{
 "cells": [
  {
   "cell_type": "code",
   "execution_count": 1,
   "id": "7b5dd276",
   "metadata": {},
   "outputs": [
    {
     "name": "stdout",
     "output_type": "stream",
     "text": [
      "WARNING:tensorflow:From D:\\anaconda3\\Lib\\site-packages\\keras\\src\\losses.py:2976: The name tf.losses.sparse_softmax_cross_entropy is deprecated. Please use tf.compat.v1.losses.sparse_softmax_cross_entropy instead.\n",
      "\n"
     ]
    }
   ],
   "source": [
    "from sklearn.datasets import load_digits\n",
    "import tensorflow as tf\n",
    "from keras import Sequential, layers\n",
    "import warnings\n",
    "import pandas as pd\n",
    "from matplotlib import pyplot as plt\n",
    "import numpy as np"
   ]
  },
  {
   "cell_type": "code",
   "execution_count": 2,
   "id": "c225966b",
   "metadata": {},
   "outputs": [],
   "source": [
    "warnings.filterwarnings('ignore')"
   ]
  },
  {
   "cell_type": "code",
   "execution_count": 3,
   "id": "021febe9",
   "metadata": {},
   "outputs": [],
   "source": [
    "digits = load_digits()"
   ]
  },
  {
   "cell_type": "code",
   "execution_count": 4,
   "id": "9d63c652",
   "metadata": {},
   "outputs": [
    {
     "data": {
      "text/plain": [
       "['DESCR', 'data', 'feature_names', 'frame', 'images', 'target', 'target_names']"
      ]
     },
     "execution_count": 4,
     "metadata": {},
     "output_type": "execute_result"
    }
   ],
   "source": [
    "dir(digits)"
   ]
  },
  {
   "cell_type": "code",
   "execution_count": 5,
   "id": "74efab23",
   "metadata": {},
   "outputs": [
    {
     "data": {
      "text/html": [
       "<div>\n",
       "<style scoped>\n",
       "    .dataframe tbody tr th:only-of-type {\n",
       "        vertical-align: middle;\n",
       "    }\n",
       "\n",
       "    .dataframe tbody tr th {\n",
       "        vertical-align: top;\n",
       "    }\n",
       "\n",
       "    .dataframe thead th {\n",
       "        text-align: right;\n",
       "    }\n",
       "</style>\n",
       "<table border=\"1\" class=\"dataframe\">\n",
       "  <thead>\n",
       "    <tr style=\"text-align: right;\">\n",
       "      <th></th>\n",
       "      <th>pixel_0_0</th>\n",
       "      <th>pixel_0_1</th>\n",
       "      <th>pixel_0_2</th>\n",
       "      <th>pixel_0_3</th>\n",
       "      <th>pixel_0_4</th>\n",
       "      <th>pixel_0_5</th>\n",
       "      <th>pixel_0_6</th>\n",
       "      <th>pixel_0_7</th>\n",
       "      <th>pixel_1_0</th>\n",
       "      <th>pixel_1_1</th>\n",
       "      <th>...</th>\n",
       "      <th>pixel_6_6</th>\n",
       "      <th>pixel_6_7</th>\n",
       "      <th>pixel_7_0</th>\n",
       "      <th>pixel_7_1</th>\n",
       "      <th>pixel_7_2</th>\n",
       "      <th>pixel_7_3</th>\n",
       "      <th>pixel_7_4</th>\n",
       "      <th>pixel_7_5</th>\n",
       "      <th>pixel_7_6</th>\n",
       "      <th>pixel_7_7</th>\n",
       "    </tr>\n",
       "  </thead>\n",
       "  <tbody>\n",
       "    <tr>\n",
       "      <th>0</th>\n",
       "      <td>0.0</td>\n",
       "      <td>0.0</td>\n",
       "      <td>5.0</td>\n",
       "      <td>13.0</td>\n",
       "      <td>9.0</td>\n",
       "      <td>1.0</td>\n",
       "      <td>0.0</td>\n",
       "      <td>0.0</td>\n",
       "      <td>0.0</td>\n",
       "      <td>0.0</td>\n",
       "      <td>...</td>\n",
       "      <td>0.0</td>\n",
       "      <td>0.0</td>\n",
       "      <td>0.0</td>\n",
       "      <td>0.0</td>\n",
       "      <td>6.0</td>\n",
       "      <td>13.0</td>\n",
       "      <td>10.0</td>\n",
       "      <td>0.0</td>\n",
       "      <td>0.0</td>\n",
       "      <td>0.0</td>\n",
       "    </tr>\n",
       "    <tr>\n",
       "      <th>1</th>\n",
       "      <td>0.0</td>\n",
       "      <td>0.0</td>\n",
       "      <td>0.0</td>\n",
       "      <td>12.0</td>\n",
       "      <td>13.0</td>\n",
       "      <td>5.0</td>\n",
       "      <td>0.0</td>\n",
       "      <td>0.0</td>\n",
       "      <td>0.0</td>\n",
       "      <td>0.0</td>\n",
       "      <td>...</td>\n",
       "      <td>0.0</td>\n",
       "      <td>0.0</td>\n",
       "      <td>0.0</td>\n",
       "      <td>0.0</td>\n",
       "      <td>0.0</td>\n",
       "      <td>11.0</td>\n",
       "      <td>16.0</td>\n",
       "      <td>10.0</td>\n",
       "      <td>0.0</td>\n",
       "      <td>0.0</td>\n",
       "    </tr>\n",
       "    <tr>\n",
       "      <th>2</th>\n",
       "      <td>0.0</td>\n",
       "      <td>0.0</td>\n",
       "      <td>0.0</td>\n",
       "      <td>4.0</td>\n",
       "      <td>15.0</td>\n",
       "      <td>12.0</td>\n",
       "      <td>0.0</td>\n",
       "      <td>0.0</td>\n",
       "      <td>0.0</td>\n",
       "      <td>0.0</td>\n",
       "      <td>...</td>\n",
       "      <td>5.0</td>\n",
       "      <td>0.0</td>\n",
       "      <td>0.0</td>\n",
       "      <td>0.0</td>\n",
       "      <td>0.0</td>\n",
       "      <td>3.0</td>\n",
       "      <td>11.0</td>\n",
       "      <td>16.0</td>\n",
       "      <td>9.0</td>\n",
       "      <td>0.0</td>\n",
       "    </tr>\n",
       "    <tr>\n",
       "      <th>3</th>\n",
       "      <td>0.0</td>\n",
       "      <td>0.0</td>\n",
       "      <td>7.0</td>\n",
       "      <td>15.0</td>\n",
       "      <td>13.0</td>\n",
       "      <td>1.0</td>\n",
       "      <td>0.0</td>\n",
       "      <td>0.0</td>\n",
       "      <td>0.0</td>\n",
       "      <td>8.0</td>\n",
       "      <td>...</td>\n",
       "      <td>9.0</td>\n",
       "      <td>0.0</td>\n",
       "      <td>0.0</td>\n",
       "      <td>0.0</td>\n",
       "      <td>7.0</td>\n",
       "      <td>13.0</td>\n",
       "      <td>13.0</td>\n",
       "      <td>9.0</td>\n",
       "      <td>0.0</td>\n",
       "      <td>0.0</td>\n",
       "    </tr>\n",
       "    <tr>\n",
       "      <th>4</th>\n",
       "      <td>0.0</td>\n",
       "      <td>0.0</td>\n",
       "      <td>0.0</td>\n",
       "      <td>1.0</td>\n",
       "      <td>11.0</td>\n",
       "      <td>0.0</td>\n",
       "      <td>0.0</td>\n",
       "      <td>0.0</td>\n",
       "      <td>0.0</td>\n",
       "      <td>0.0</td>\n",
       "      <td>...</td>\n",
       "      <td>0.0</td>\n",
       "      <td>0.0</td>\n",
       "      <td>0.0</td>\n",
       "      <td>0.0</td>\n",
       "      <td>0.0</td>\n",
       "      <td>2.0</td>\n",
       "      <td>16.0</td>\n",
       "      <td>4.0</td>\n",
       "      <td>0.0</td>\n",
       "      <td>0.0</td>\n",
       "    </tr>\n",
       "  </tbody>\n",
       "</table>\n",
       "<p>5 rows × 64 columns</p>\n",
       "</div>"
      ],
      "text/plain": [
       "   pixel_0_0  pixel_0_1  pixel_0_2  pixel_0_3  pixel_0_4  pixel_0_5  \\\n",
       "0        0.0        0.0        5.0       13.0        9.0        1.0   \n",
       "1        0.0        0.0        0.0       12.0       13.0        5.0   \n",
       "2        0.0        0.0        0.0        4.0       15.0       12.0   \n",
       "3        0.0        0.0        7.0       15.0       13.0        1.0   \n",
       "4        0.0        0.0        0.0        1.0       11.0        0.0   \n",
       "\n",
       "   pixel_0_6  pixel_0_7  pixel_1_0  pixel_1_1  ...  pixel_6_6  pixel_6_7  \\\n",
       "0        0.0        0.0        0.0        0.0  ...        0.0        0.0   \n",
       "1        0.0        0.0        0.0        0.0  ...        0.0        0.0   \n",
       "2        0.0        0.0        0.0        0.0  ...        5.0        0.0   \n",
       "3        0.0        0.0        0.0        8.0  ...        9.0        0.0   \n",
       "4        0.0        0.0        0.0        0.0  ...        0.0        0.0   \n",
       "\n",
       "   pixel_7_0  pixel_7_1  pixel_7_2  pixel_7_3  pixel_7_4  pixel_7_5  \\\n",
       "0        0.0        0.0        6.0       13.0       10.0        0.0   \n",
       "1        0.0        0.0        0.0       11.0       16.0       10.0   \n",
       "2        0.0        0.0        0.0        3.0       11.0       16.0   \n",
       "3        0.0        0.0        7.0       13.0       13.0        9.0   \n",
       "4        0.0        0.0        0.0        2.0       16.0        4.0   \n",
       "\n",
       "   pixel_7_6  pixel_7_7  \n",
       "0        0.0        0.0  \n",
       "1        0.0        0.0  \n",
       "2        9.0        0.0  \n",
       "3        0.0        0.0  \n",
       "4        0.0        0.0  \n",
       "\n",
       "[5 rows x 64 columns]"
      ]
     },
     "execution_count": 5,
     "metadata": {},
     "output_type": "execute_result"
    }
   ],
   "source": [
    "df = pd.DataFrame(data=digits.data, columns=digits.feature_names)\n",
    "df.head()"
   ]
  },
  {
   "cell_type": "code",
   "execution_count": 6,
   "id": "fd4abd15",
   "metadata": {},
   "outputs": [
    {
     "data": {
      "text/html": [
       "<div>\n",
       "<style scoped>\n",
       "    .dataframe tbody tr th:only-of-type {\n",
       "        vertical-align: middle;\n",
       "    }\n",
       "\n",
       "    .dataframe tbody tr th {\n",
       "        vertical-align: top;\n",
       "    }\n",
       "\n",
       "    .dataframe thead th {\n",
       "        text-align: right;\n",
       "    }\n",
       "</style>\n",
       "<table border=\"1\" class=\"dataframe\">\n",
       "  <thead>\n",
       "    <tr style=\"text-align: right;\">\n",
       "      <th></th>\n",
       "      <th>pixel_0_0</th>\n",
       "      <th>pixel_0_1</th>\n",
       "      <th>pixel_0_2</th>\n",
       "      <th>pixel_0_3</th>\n",
       "      <th>pixel_0_4</th>\n",
       "      <th>pixel_0_5</th>\n",
       "      <th>pixel_0_6</th>\n",
       "      <th>pixel_0_7</th>\n",
       "      <th>pixel_1_0</th>\n",
       "      <th>pixel_1_1</th>\n",
       "      <th>...</th>\n",
       "      <th>pixel_6_7</th>\n",
       "      <th>pixel_7_0</th>\n",
       "      <th>pixel_7_1</th>\n",
       "      <th>pixel_7_2</th>\n",
       "      <th>pixel_7_3</th>\n",
       "      <th>pixel_7_4</th>\n",
       "      <th>pixel_7_5</th>\n",
       "      <th>pixel_7_6</th>\n",
       "      <th>pixel_7_7</th>\n",
       "      <th>target</th>\n",
       "    </tr>\n",
       "  </thead>\n",
       "  <tbody>\n",
       "    <tr>\n",
       "      <th>0</th>\n",
       "      <td>0.0</td>\n",
       "      <td>0.0</td>\n",
       "      <td>5.0</td>\n",
       "      <td>13.0</td>\n",
       "      <td>9.0</td>\n",
       "      <td>1.0</td>\n",
       "      <td>0.0</td>\n",
       "      <td>0.0</td>\n",
       "      <td>0.0</td>\n",
       "      <td>0.0</td>\n",
       "      <td>...</td>\n",
       "      <td>0.0</td>\n",
       "      <td>0.0</td>\n",
       "      <td>0.0</td>\n",
       "      <td>6.0</td>\n",
       "      <td>13.0</td>\n",
       "      <td>10.0</td>\n",
       "      <td>0.0</td>\n",
       "      <td>0.0</td>\n",
       "      <td>0.0</td>\n",
       "      <td>0</td>\n",
       "    </tr>\n",
       "    <tr>\n",
       "      <th>1</th>\n",
       "      <td>0.0</td>\n",
       "      <td>0.0</td>\n",
       "      <td>0.0</td>\n",
       "      <td>12.0</td>\n",
       "      <td>13.0</td>\n",
       "      <td>5.0</td>\n",
       "      <td>0.0</td>\n",
       "      <td>0.0</td>\n",
       "      <td>0.0</td>\n",
       "      <td>0.0</td>\n",
       "      <td>...</td>\n",
       "      <td>0.0</td>\n",
       "      <td>0.0</td>\n",
       "      <td>0.0</td>\n",
       "      <td>0.0</td>\n",
       "      <td>11.0</td>\n",
       "      <td>16.0</td>\n",
       "      <td>10.0</td>\n",
       "      <td>0.0</td>\n",
       "      <td>0.0</td>\n",
       "      <td>1</td>\n",
       "    </tr>\n",
       "    <tr>\n",
       "      <th>2</th>\n",
       "      <td>0.0</td>\n",
       "      <td>0.0</td>\n",
       "      <td>0.0</td>\n",
       "      <td>4.0</td>\n",
       "      <td>15.0</td>\n",
       "      <td>12.0</td>\n",
       "      <td>0.0</td>\n",
       "      <td>0.0</td>\n",
       "      <td>0.0</td>\n",
       "      <td>0.0</td>\n",
       "      <td>...</td>\n",
       "      <td>0.0</td>\n",
       "      <td>0.0</td>\n",
       "      <td>0.0</td>\n",
       "      <td>0.0</td>\n",
       "      <td>3.0</td>\n",
       "      <td>11.0</td>\n",
       "      <td>16.0</td>\n",
       "      <td>9.0</td>\n",
       "      <td>0.0</td>\n",
       "      <td>2</td>\n",
       "    </tr>\n",
       "    <tr>\n",
       "      <th>3</th>\n",
       "      <td>0.0</td>\n",
       "      <td>0.0</td>\n",
       "      <td>7.0</td>\n",
       "      <td>15.0</td>\n",
       "      <td>13.0</td>\n",
       "      <td>1.0</td>\n",
       "      <td>0.0</td>\n",
       "      <td>0.0</td>\n",
       "      <td>0.0</td>\n",
       "      <td>8.0</td>\n",
       "      <td>...</td>\n",
       "      <td>0.0</td>\n",
       "      <td>0.0</td>\n",
       "      <td>0.0</td>\n",
       "      <td>7.0</td>\n",
       "      <td>13.0</td>\n",
       "      <td>13.0</td>\n",
       "      <td>9.0</td>\n",
       "      <td>0.0</td>\n",
       "      <td>0.0</td>\n",
       "      <td>3</td>\n",
       "    </tr>\n",
       "    <tr>\n",
       "      <th>4</th>\n",
       "      <td>0.0</td>\n",
       "      <td>0.0</td>\n",
       "      <td>0.0</td>\n",
       "      <td>1.0</td>\n",
       "      <td>11.0</td>\n",
       "      <td>0.0</td>\n",
       "      <td>0.0</td>\n",
       "      <td>0.0</td>\n",
       "      <td>0.0</td>\n",
       "      <td>0.0</td>\n",
       "      <td>...</td>\n",
       "      <td>0.0</td>\n",
       "      <td>0.0</td>\n",
       "      <td>0.0</td>\n",
       "      <td>0.0</td>\n",
       "      <td>2.0</td>\n",
       "      <td>16.0</td>\n",
       "      <td>4.0</td>\n",
       "      <td>0.0</td>\n",
       "      <td>0.0</td>\n",
       "      <td>4</td>\n",
       "    </tr>\n",
       "  </tbody>\n",
       "</table>\n",
       "<p>5 rows × 65 columns</p>\n",
       "</div>"
      ],
      "text/plain": [
       "   pixel_0_0  pixel_0_1  pixel_0_2  pixel_0_3  pixel_0_4  pixel_0_5  \\\n",
       "0        0.0        0.0        5.0       13.0        9.0        1.0   \n",
       "1        0.0        0.0        0.0       12.0       13.0        5.0   \n",
       "2        0.0        0.0        0.0        4.0       15.0       12.0   \n",
       "3        0.0        0.0        7.0       15.0       13.0        1.0   \n",
       "4        0.0        0.0        0.0        1.0       11.0        0.0   \n",
       "\n",
       "   pixel_0_6  pixel_0_7  pixel_1_0  pixel_1_1  ...  pixel_6_7  pixel_7_0  \\\n",
       "0        0.0        0.0        0.0        0.0  ...        0.0        0.0   \n",
       "1        0.0        0.0        0.0        0.0  ...        0.0        0.0   \n",
       "2        0.0        0.0        0.0        0.0  ...        0.0        0.0   \n",
       "3        0.0        0.0        0.0        8.0  ...        0.0        0.0   \n",
       "4        0.0        0.0        0.0        0.0  ...        0.0        0.0   \n",
       "\n",
       "   pixel_7_1  pixel_7_2  pixel_7_3  pixel_7_4  pixel_7_5  pixel_7_6  \\\n",
       "0        0.0        6.0       13.0       10.0        0.0        0.0   \n",
       "1        0.0        0.0       11.0       16.0       10.0        0.0   \n",
       "2        0.0        0.0        3.0       11.0       16.0        9.0   \n",
       "3        0.0        7.0       13.0       13.0        9.0        0.0   \n",
       "4        0.0        0.0        2.0       16.0        4.0        0.0   \n",
       "\n",
       "   pixel_7_7  target  \n",
       "0        0.0       0  \n",
       "1        0.0       1  \n",
       "2        0.0       2  \n",
       "3        0.0       3  \n",
       "4        0.0       4  \n",
       "\n",
       "[5 rows x 65 columns]"
      ]
     },
     "execution_count": 6,
     "metadata": {},
     "output_type": "execute_result"
    }
   ],
   "source": [
    "df['target'] = digits.target\n",
    "df.head()"
   ]
  },
  {
   "cell_type": "code",
   "execution_count": 7,
   "id": "8b457332",
   "metadata": {},
   "outputs": [
    {
     "data": {
      "image/png": "[encoded data removed]",
      "text/plain": [
       "<Figure size 200x200 with 1 Axes>"
      ]
     },
     "metadata": {},
     "output_type": "display_data"
    }
   ],
   "source": [
    "def showImg(index):\n",
    "    plt.figure(figsize=(2,2))\n",
    "    plt.imshow(digits.data[index].reshape(8,8))\n",
    "    plt.xlabel(digits.target[index])\n",
    "    \n",
    "showImg(0)"
   ]
  },
  {
   "cell_type": "code",
   "execution_count": 8,
   "id": "b790cab5",
   "metadata": {},
   "outputs": [
    {
     "data": {
      "image/png": "[encoded data removed]",
      "text/plain": [
       "<Figure size 200x200 with 1 Axes>"
      ]
     },
     "metadata": {},
     "output_type": "display_data"
    }
   ],
   "source": [
    "showImg(101)"
   ]
  },
  {
   "cell_type": "code",
   "execution_count": 9,
   "id": "da5be4fe",
   "metadata": {},
   "outputs": [
    {
     "data": {
      "text/plain": [
       "1797"
      ]
     },
     "execution_count": 9,
     "metadata": {},
     "output_type": "execute_result"
    }
   ],
   "source": [
    "len(digits.data)"
   ]
  },
  {
   "cell_type": "code",
   "execution_count": 10,
   "id": "d6767999",
   "metadata": {},
   "outputs": [
    {
     "data": {
      "text/plain": [
       "array([ 0.,  0.,  5., 13.,  9.,  1.,  0.,  0.,  0.,  0., 13., 15., 10.,\n",
       "       15.,  5.,  0.,  0.,  3., 15.,  2.,  0., 11.,  8.,  0.,  0.,  4.,\n",
       "       12.,  0.,  0.,  8.,  8.,  0.,  0.,  5.,  8.,  0.,  0.,  9.,  8.,\n",
       "        0.,  0.,  4., 11.,  0.,  1., 12.,  7.,  0.,  0.,  2., 14.,  5.,\n",
       "       10., 12.,  0.,  0.,  0.,  0.,  6., 13., 10.,  0.,  0.,  0.])"
      ]
     },
     "execution_count": 10,
     "metadata": {},
     "output_type": "execute_result"
    }
   ],
   "source": [
    "digits.data[0]"
   ]
  },
  {
   "cell_type": "code",
   "execution_count": 11,
   "id": "b2a55a27",
   "metadata": {},
   "outputs": [
    {
     "data": {
      "text/plain": [
       "(64,)"
      ]
     },
     "execution_count": 11,
     "metadata": {},
     "output_type": "execute_result"
    }
   ],
   "source": [
    "digits.data[0].shape"
   ]
  },
  {
   "cell_type": "code",
   "execution_count": 12,
   "id": "71ab0d13",
   "metadata": {},
   "outputs": [
    {
     "data": {
      "text/plain": [
       "(1797, 64)"
      ]
     },
     "execution_count": 12,
     "metadata": {},
     "output_type": "execute_result"
    }
   ],
   "source": [
    "digits.data.shape"
   ]
  },
  {
   "cell_type": "code",
   "execution_count": null,
   "id": "cf5ca646",
   "metadata": {},
   "outputs": [],
   "source": []
  },
  {
   "cell_type": "code",
   "execution_count": 13,
   "id": "80f88399",
   "metadata": {},
   "outputs": [
    {
     "name": "stdout",
     "output_type": "stream",
     "text": [
      "WARNING:tensorflow:From D:\\anaconda3\\Lib\\site-packages\\keras\\src\\backend.py:873: The name tf.get_default_graph is deprecated. Please use tf.compat.v1.get_default_graph instead.\n",
      "\n",
      "WARNING:tensorflow:From D:\\anaconda3\\Lib\\site-packages\\keras\\src\\optimizers\\__init__.py:309: The name tf.train.Optimizer is deprecated. Please use tf.compat.v1.train.Optimizer instead.\n",
      "\n",
      "Epoch 1/100\n",
      "WARNING:tensorflow:From D:\\anaconda3\\Lib\\site-packages\\keras\\src\\utils\\tf_utils.py:492: The name tf.ragged.RaggedTensorValue is deprecated. Please use tf.compat.v1.ragged.RaggedTensorValue instead.\n",
      "\n",
      "WARNING:tensorflow:From D:\\anaconda3\\Lib\\site-packages\\keras\\src\\engine\\base_layer_utils.py:384: The name tf.executing_eagerly_outside_functions is deprecated. Please use tf.compat.v1.executing_eagerly_outside_functions instead.\n",
      "\n",
      "57/57 [==============================] - 1s 2ms/step - loss: 7.5517 - accuracy: 0.1252\n",
      "Epoch 2/100\n",
      "57/57 [==============================] - 0s 1ms/step - loss: 3.6382 - accuracy: 0.3088\n",
      "Epoch 3/100\n",
      "57/57 [==============================] - 0s 1ms/step - loss: 2.0936 - accuracy: 0.5086\n",
      "Epoch 4/100\n",
      "57/57 [==============================] - 0s 2ms/step - loss: 1.3991 - accuracy: 0.6483\n",
      "Epoch 5/100\n",
      "57/57 [==============================] - 0s 1ms/step - loss: 1.0384 - accuracy: 0.7301\n",
      "Epoch 6/100\n",
      "57/57 [==============================] - 0s 1ms/step - loss: 0.8218 - accuracy: 0.7785\n",
      "Epoch 7/100\n",
      "57/57 [==============================] - 0s 1ms/step - loss: 0.6827 - accuracy: 0.8108\n",
      "Epoch 8/100\n",
      "57/57 [==============================] - 0s 1ms/step - loss: 0.5849 - accuracy: 0.8447\n",
      "Epoch 9/100\n",
      "57/57 [==============================] - 0s 1ms/step - loss: 0.5043 - accuracy: 0.8542\n",
      "Epoch 10/100\n",
      "57/57 [==============================] - 0s 1ms/step - loss: 0.4425 - accuracy: 0.8726\n",
      "Epoch 11/100\n",
      "57/57 [==============================] - 0s 1ms/step - loss: 0.3905 - accuracy: 0.8837\n",
      "Epoch 12/100\n",
      "57/57 [==============================] - 0s 1ms/step - loss: 0.3495 - accuracy: 0.8959\n",
      "Epoch 13/100\n",
      "57/57 [==============================] - 0s 1ms/step - loss: 0.3161 - accuracy: 0.8993\n",
      "Epoch 14/100\n",
      "57/57 [==============================] - 0s 1ms/step - loss: 0.2849 - accuracy: 0.9065\n",
      "Epoch 15/100\n",
      "57/57 [==============================] - 0s 1ms/step - loss: 0.2608 - accuracy: 0.9165\n",
      "Epoch 16/100\n",
      "57/57 [==============================] - 0s 1ms/step - loss: 0.2401 - accuracy: 0.9260\n",
      "Epoch 17/100\n",
      "57/57 [==============================] - 0s 1ms/step - loss: 0.2261 - accuracy: 0.9282\n",
      "Epoch 18/100\n",
      "57/57 [==============================] - 0s 1ms/step - loss: 0.2099 - accuracy: 0.9304\n",
      "Epoch 19/100\n",
      "57/57 [==============================] - 0s 1ms/step - loss: 0.1938 - accuracy: 0.9388\n",
      "Epoch 20/100\n",
      "57/57 [==============================] - 0s 1ms/step - loss: 0.1805 - accuracy: 0.9466\n",
      "Epoch 21/100\n",
      "57/57 [==============================] - 0s 1ms/step - loss: 0.1702 - accuracy: 0.9510\n",
      "Epoch 22/100\n",
      "57/57 [==============================] - 0s 2ms/step - loss: 0.1634 - accuracy: 0.9488\n",
      "Epoch 23/100\n",
      "57/57 [==============================] - 0s 1ms/step - loss: 0.1516 - accuracy: 0.9538\n",
      "Epoch 24/100\n",
      "57/57 [==============================] - 0s 1ms/step - loss: 0.1441 - accuracy: 0.9594\n",
      "Epoch 25/100\n",
      "57/57 [==============================] - 0s 1ms/step - loss: 0.1431 - accuracy: 0.9583\n",
      "Epoch 26/100\n",
      "57/57 [==============================] - 0s 1ms/step - loss: 0.1305 - accuracy: 0.9616\n",
      "Epoch 27/100\n",
      "57/57 [==============================] - 0s 1ms/step - loss: 0.1303 - accuracy: 0.9599\n",
      "Epoch 28/100\n",
      "57/57 [==============================] - 0s 1ms/step - loss: 0.1192 - accuracy: 0.9672\n",
      "Epoch 29/100\n",
      "57/57 [==============================] - 0s 1ms/step - loss: 0.1137 - accuracy: 0.9699\n",
      "Epoch 30/100\n",
      "57/57 [==============================] - 0s 1ms/step - loss: 0.1108 - accuracy: 0.9688\n",
      "Epoch 31/100\n",
      "57/57 [==============================] - 0s 1ms/step - loss: 0.1061 - accuracy: 0.9711\n",
      "Epoch 32/100\n",
      "57/57 [==============================] - 0s 2ms/step - loss: 0.1013 - accuracy: 0.9733\n",
      "Epoch 33/100\n",
      "57/57 [==============================] - 0s 1ms/step - loss: 0.0982 - accuracy: 0.9744\n",
      "Epoch 34/100\n",
      "57/57 [==============================] - 0s 1ms/step - loss: 0.0970 - accuracy: 0.9733\n",
      "Epoch 35/100\n",
      "57/57 [==============================] - 0s 1ms/step - loss: 0.0906 - accuracy: 0.9755\n",
      "Epoch 36/100\n",
      "57/57 [==============================] - 0s 1ms/step - loss: 0.0868 - accuracy: 0.9789\n",
      "Epoch 37/100\n",
      "57/57 [==============================] - 0s 1ms/step - loss: 0.0853 - accuracy: 0.9783\n",
      "Epoch 38/100\n",
      "57/57 [==============================] - 0s 1ms/step - loss: 0.0823 - accuracy: 0.9761\n",
      "Epoch 39/100\n",
      "57/57 [==============================] - 0s 1ms/step - loss: 0.0785 - accuracy: 0.9800\n",
      "Epoch 40/100\n",
      "57/57 [==============================] - 0s 1ms/step - loss: 0.0794 - accuracy: 0.9794\n",
      "Epoch 41/100\n",
      "57/57 [==============================] - 0s 2ms/step - loss: 0.0748 - accuracy: 0.9811\n",
      "Epoch 42/100\n",
      "57/57 [==============================] - 0s 1ms/step - loss: 0.0733 - accuracy: 0.9816\n",
      "Epoch 43/100\n",
      "57/57 [==============================] - 0s 1ms/step - loss: 0.0694 - accuracy: 0.9850\n",
      "Epoch 44/100\n",
      "57/57 [==============================] - 0s 1ms/step - loss: 0.0668 - accuracy: 0.9827\n",
      "Epoch 45/100\n",
      "57/57 [==============================] - 0s 1ms/step - loss: 0.0647 - accuracy: 0.9844\n",
      "Epoch 46/100\n",
      "57/57 [==============================] - 0s 2ms/step - loss: 0.0648 - accuracy: 0.9833\n",
      "Epoch 47/100\n",
      "57/57 [==============================] - 0s 2ms/step - loss: 0.0619 - accuracy: 0.9839\n",
      "Epoch 48/100\n",
      "57/57 [==============================] - 0s 1ms/step - loss: 0.0589 - accuracy: 0.9850\n",
      "Epoch 49/100\n",
      "57/57 [==============================] - 0s 1ms/step - loss: 0.0577 - accuracy: 0.9866\n",
      "Epoch 50/100\n",
      "57/57 [==============================] - 0s 1ms/step - loss: 0.0564 - accuracy: 0.9883\n",
      "Epoch 51/100\n",
      "57/57 [==============================] - 0s 1ms/step - loss: 0.0560 - accuracy: 0.9855\n",
      "Epoch 52/100\n",
      "57/57 [==============================] - 0s 1ms/step - loss: 0.0537 - accuracy: 0.9878\n",
      "Epoch 53/100\n",
      "57/57 [==============================] - 0s 812us/step - loss: 0.0537 - accuracy: 0.9861\n",
      "Epoch 54/100\n",
      "57/57 [==============================] - 0s 1ms/step - loss: 0.0510 - accuracy: 0.9894\n",
      "Epoch 55/100\n",
      "57/57 [==============================] - 0s 1ms/step - loss: 0.0483 - accuracy: 0.9911\n",
      "Epoch 56/100\n",
      "57/57 [==============================] - 0s 1ms/step - loss: 0.0482 - accuracy: 0.9889\n",
      "Epoch 57/100\n",
      "57/57 [==============================] - 0s 1ms/step - loss: 0.0477 - accuracy: 0.9905\n",
      "Epoch 58/100\n",
      "57/57 [==============================] - 0s 1ms/step - loss: 0.0457 - accuracy: 0.9917\n",
      "Epoch 59/100\n",
      "57/57 [==============================] - 0s 1ms/step - loss: 0.0449 - accuracy: 0.9917\n",
      "Epoch 60/100\n",
      "57/57 [==============================] - 0s 1ms/step - loss: 0.0429 - accuracy: 0.9900\n",
      "Epoch 61/100\n",
      "57/57 [==============================] - 0s 1ms/step - loss: 0.0423 - accuracy: 0.9911\n",
      "Epoch 62/100\n",
      "57/57 [==============================] - 0s 1ms/step - loss: 0.0424 - accuracy: 0.9917\n",
      "Epoch 63/100\n",
      "57/57 [==============================] - 0s 1ms/step - loss: 0.0399 - accuracy: 0.9911\n",
      "Epoch 64/100\n",
      "57/57 [==============================] - 0s 1ms/step - loss: 0.0404 - accuracy: 0.9933\n",
      "Epoch 65/100\n",
      "57/57 [==============================] - 0s 1ms/step - loss: 0.0384 - accuracy: 0.9922\n",
      "Epoch 66/100\n",
      "57/57 [==============================] - 0s 1ms/step - loss: 0.0394 - accuracy: 0.9928\n",
      "Epoch 67/100\n",
      "57/57 [==============================] - 0s 1ms/step - loss: 0.0381 - accuracy: 0.9939\n",
      "Epoch 68/100\n",
      "57/57 [==============================] - 0s 1ms/step - loss: 0.0355 - accuracy: 0.9939\n",
      "Epoch 69/100\n",
      "57/57 [==============================] - 0s 1ms/step - loss: 0.0349 - accuracy: 0.9933\n",
      "Epoch 70/100\n",
      "57/57 [==============================] - 0s 1ms/step - loss: 0.0352 - accuracy: 0.9939\n",
      "Epoch 71/100\n",
      "57/57 [==============================] - 0s 1ms/step - loss: 0.0361 - accuracy: 0.9950\n",
      "Epoch 72/100\n",
      "57/57 [==============================] - 0s 1ms/step - loss: 0.0322 - accuracy: 0.9972\n",
      "Epoch 73/100\n",
      "57/57 [==============================] - 0s 1ms/step - loss: 0.0322 - accuracy: 0.9967\n",
      "Epoch 74/100\n",
      "57/57 [==============================] - 0s 2ms/step - loss: 0.0313 - accuracy: 0.9967\n",
      "Epoch 75/100\n"
     ]
    },
    {
     "name": "stdout",
     "output_type": "stream",
     "text": [
      "57/57 [==============================] - 0s 1ms/step - loss: 0.0309 - accuracy: 0.9950\n",
      "Epoch 76/100\n",
      "57/57 [==============================] - 0s 1ms/step - loss: 0.0341 - accuracy: 0.9955\n",
      "Epoch 77/100\n",
      "57/57 [==============================] - 0s 1ms/step - loss: 0.0287 - accuracy: 0.9967\n",
      "Epoch 78/100\n",
      "57/57 [==============================] - 0s 1ms/step - loss: 0.0290 - accuracy: 0.9967\n",
      "Epoch 79/100\n",
      "57/57 [==============================] - 0s 1ms/step - loss: 0.0288 - accuracy: 0.9967\n",
      "Epoch 80/100\n",
      "57/57 [==============================] - 0s 1ms/step - loss: 0.0302 - accuracy: 0.9961\n",
      "Epoch 81/100\n",
      "57/57 [==============================] - 0s 1ms/step - loss: 0.0277 - accuracy: 0.9961\n",
      "Epoch 82/100\n",
      "57/57 [==============================] - 0s 1ms/step - loss: 0.0275 - accuracy: 0.9961\n",
      "Epoch 83/100\n",
      "57/57 [==============================] - 0s 1ms/step - loss: 0.0254 - accuracy: 0.9972\n",
      "Epoch 84/100\n",
      "57/57 [==============================] - 0s 1ms/step - loss: 0.0261 - accuracy: 0.9967\n",
      "Epoch 85/100\n",
      "57/57 [==============================] - 0s 1ms/step - loss: 0.0256 - accuracy: 0.9967\n",
      "Epoch 86/100\n",
      "57/57 [==============================] - 0s 1ms/step - loss: 0.0247 - accuracy: 0.9972\n",
      "Epoch 87/100\n",
      "57/57 [==============================] - 0s 1ms/step - loss: 0.0244 - accuracy: 0.9978\n",
      "Epoch 88/100\n",
      "57/57 [==============================] - 0s 1ms/step - loss: 0.0237 - accuracy: 0.9972\n",
      "Epoch 89/100\n",
      "57/57 [==============================] - 0s 1ms/step - loss: 0.0228 - accuracy: 0.9978\n",
      "Epoch 90/100\n",
      "57/57 [==============================] - 0s 1ms/step - loss: 0.0233 - accuracy: 0.9972\n",
      "Epoch 91/100\n",
      "57/57 [==============================] - 0s 1ms/step - loss: 0.0238 - accuracy: 0.9967\n",
      "Epoch 92/100\n",
      "57/57 [==============================] - 0s 1ms/step - loss: 0.0220 - accuracy: 0.9983\n",
      "Epoch 93/100\n",
      "57/57 [==============================] - 0s 1ms/step - loss: 0.0218 - accuracy: 0.9967\n",
      "Epoch 94/100\n",
      "57/57 [==============================] - 0s 1ms/step - loss: 0.0215 - accuracy: 0.9978\n",
      "Epoch 95/100\n",
      "57/57 [==============================] - 0s 1ms/step - loss: 0.0207 - accuracy: 0.9983\n",
      "Epoch 96/100\n",
      "57/57 [==============================] - 0s 1ms/step - loss: 0.0222 - accuracy: 0.9978\n",
      "Epoch 97/100\n",
      "57/57 [==============================] - 0s 1ms/step - loss: 0.0202 - accuracy: 0.9978\n",
      "Epoch 98/100\n",
      "57/57 [==============================] - 0s 1ms/step - loss: 0.0201 - accuracy: 0.9972\n",
      "Epoch 99/100\n",
      "57/57 [==============================] - 0s 1ms/step - loss: 0.0192 - accuracy: 0.9983\n",
      "Epoch 100/100\n",
      "57/57 [==============================] - 0s 1ms/step - loss: 0.0192 - accuracy: 0.9983\n"
     ]
    },
    {
     "data": {
      "text/plain": [
       "<keras.src.callbacks.History at 0x1ab36791250>"
      ]
     },
     "execution_count": 13,
     "metadata": {},
     "output_type": "execute_result"
    }
   ],
   "source": [
    "model = Sequential([\n",
    "    layers.Flatten(input_shape=(64,)),\n",
    "    layers.Dense(10, activation='sigmoid')\n",
    "])\n",
    "\n",
    "model.compile(optimizer='adam', loss='sparse_categorical_crossentropy', metrics=['accuracy'])\n",
    "model.fit(digits.data, digits.target, epochs=100)"
   ]
  },
  {
   "cell_type": "code",
   "execution_count": 14,
   "id": "b52155d6",
   "metadata": {},
   "outputs": [
    {
     "name": "stdout",
     "output_type": "stream",
     "text": [
      "57/57 [==============================] - 0s 1ms/step - loss: 0.0177 - accuracy: 0.9978\n"
     ]
    },
    {
     "data": {
      "text/plain": [
       "[0.017739025875926018, 0.997774064540863]"
      ]
     },
     "execution_count": 14,
     "metadata": {},
     "output_type": "execute_result"
    }
   ],
   "source": [
    "model.evaluate(digits.data, digits.target)"
   ]
  },
  {
   "cell_type": "code",
   "execution_count": 15,
   "id": "d8d4f4bb",
   "metadata": {},
   "outputs": [
    {
     "name": "stdout",
     "output_type": "stream",
     "text": [
      "57/57 [==============================] - 0s 1ms/step\n"
     ]
    }
   ],
   "source": [
    "y_pred = model.predict(digits.data)"
   ]
  },
  {
   "cell_type": "code",
   "execution_count": 16,
   "id": "28b721ef",
   "metadata": {},
   "outputs": [
    {
     "data": {
      "text/plain": [
       "9"
      ]
     },
     "execution_count": 16,
     "metadata": {},
     "output_type": "execute_result"
    }
   ],
   "source": [
    "np.argmax(y_pred[1020])"
   ]
  },
  {
   "cell_type": "code",
   "execution_count": 17,
   "id": "1eceedb6",
   "metadata": {},
   "outputs": [
    {
     "data": {
      "image/png": "[encoded data removed]",
      "text/plain": [
       "<Figure size 200x200 with 1 Axes>"
      ]
     },
     "metadata": {},
     "output_type": "display_data"
    }
   ],
   "source": [
    "showImg(1020)"
   ]
  },
  {
   "cell_type": "code",
   "execution_count": 18,
   "id": "03da8073",
   "metadata": {},
   "outputs": [],
   "source": [
    "from keras.datasets import mnist"
   ]
  },
  {
   "cell_type": "code",
   "execution_count": 19,
   "id": "78812d00",
   "metadata": {},
   "outputs": [],
   "source": [
    "data = mnist.load_data()"
   ]
  },
  {
   "cell_type": "code",
   "execution_count": 20,
   "id": "30a4bb2f",
   "metadata": {},
   "outputs": [],
   "source": [
    "(X_train, y_train), (X_test, y_test) = data"
   ]
  },
  {
   "cell_type": "code",
   "execution_count": 21,
   "id": "1d9c2e92",
   "metadata": {},
   "outputs": [
    {
     "data": {
      "text/plain": [
       "(60000, 28, 28)"
      ]
     },
     "execution_count": 21,
     "metadata": {},
     "output_type": "execute_result"
    }
   ],
   "source": [
    "X_train.shape"
   ]
  },
  {
   "cell_type": "code",
   "execution_count": 22,
   "id": "90d0bbeb",
   "metadata": {},
   "outputs": [
    {
     "name": "stdout",
     "output_type": "stream",
     "text": [
      "1875/1875 [==============================] - 3s 1ms/step - loss: 9.8408 - accuracy: 0.8401\n"
     ]
    },
    {
     "data": {
      "text/plain": [
       "<keras.src.callbacks.History at 0x1ab370a5ed0>"
      ]
     },
     "execution_count": 22,
     "metadata": {},
     "output_type": "execute_result"
    }
   ],
   "source": [
    "model = Sequential([\n",
    "    layers.Flatten(input_shape=(28, 28)),\n",
    "    layers.Dense(10, activation='sigmoid')\n",
    "])\n",
    "\n",
    "model.compile(optimizer='adam', loss='sparse_categorical_crossentropy', metrics=['accuracy'])\n",
    "model.fit(X_train, y_train, epochs=1)"
   ]
  },
  {
   "cell_type": "code",
   "execution_count": 23,
   "id": "136b386c",
   "metadata": {},
   "outputs": [
    {
     "name": "stdout",
     "output_type": "stream",
     "text": [
      "1875/1875 [==============================] - 2s 1ms/step - loss: 8.1178 - accuracy: 0.8404\n"
     ]
    },
    {
     "data": {
      "text/plain": [
       "[8.11780071258545, 0.840416669845581]"
      ]
     },
     "execution_count": 23,
     "metadata": {},
     "output_type": "execute_result"
    }
   ],
   "source": [
    "model.evaluate(X_train, y_train)"
   ]
  },
  {
   "cell_type": "code",
   "execution_count": 24,
   "id": "8532b618",
   "metadata": {},
   "outputs": [
    {
     "name": "stdout",
     "output_type": "stream",
     "text": [
      "313/313 [==============================] - 0s 1ms/step - loss: 8.9431 - accuracy: 0.8350\n"
     ]
    },
    {
     "data": {
      "text/plain": [
       "[8.94306755065918, 0.8349999785423279]"
      ]
     },
     "execution_count": 24,
     "metadata": {},
     "output_type": "execute_result"
    }
   ],
   "source": [
    "model.evaluate(X_test, y_test)"
   ]
  },
  {
   "cell_type": "code",
   "execution_count": 25,
   "id": "f3f1e4f0",
   "metadata": {},
   "outputs": [
    {
     "name": "stdout",
     "output_type": "stream",
     "text": [
      "313/313 [==============================] - 0s 1ms/step\n"
     ]
    }
   ],
   "source": [
    "y_pred = model.predict(X_test)"
   ]
  },
  {
   "cell_type": "code",
   "execution_count": 26,
   "id": "4fce490f",
   "metadata": {},
   "outputs": [
    {
     "data": {
      "text/plain": [
       "2"
      ]
     },
     "execution_count": 26,
     "metadata": {},
     "output_type": "execute_result"
    }
   ],
   "source": [
    "np.argmax(y_pred[1110])"
   ]
  },
  {
   "cell_type": "code",
   "execution_count": 27,
   "id": "b4743024",
   "metadata": {},
   "outputs": [
    {
     "data": {
      "text/plain": [
       "7"
      ]
     },
     "execution_count": 27,
     "metadata": {},
     "output_type": "execute_result"
    }
   ],
   "source": [
    "y_test[1110]"
   ]
  }
 ],
 "metadata": {
  "kernelspec": {
   "display_name": "Python 3 (ipykernel)",
   "language": "python",
   "name": "python3"
  },
  "language_info": {
   "codemirror_mode": {
    "name": "ipython",
    "version": 3
   },
   "file_extension": ".py",
   "mimetype": "text/x-python",
   "name": "python",
   "nbconvert_exporter": "python",
   "pygments_lexer": "ipython3",
   "version": "3.11.5"
  }
 },
 "nbformat": 4,
 "nbformat_minor": 5
}
