{
 "cells": [
  {
   "cell_type": "code",
   "execution_count": 1,
   "id": "c70a06cc",
   "metadata": {},
   "outputs": [
    {
     "ename": "ModuleNotFoundError",
     "evalue": "No module named 'tensorflow'",
     "output_type": "error",
     "traceback": [
      "\u001b[1;31m---------------------------------------------------------------------------\u001b[0m",
      "\u001b[1;31mModuleNotFoundError\u001b[0m                       Traceback (most recent call last)",
      "Cell \u001b[1;32mIn[1], line 7\u001b[0m\n\u001b[0;32m      5\u001b[0m \u001b[38;5;28;01mfrom\u001b[39;00m \u001b[38;5;21;01msklearn\u001b[39;00m\u001b[38;5;21;01m.\u001b[39;00m\u001b[38;5;21;01mpreprocessing\u001b[39;00m \u001b[38;5;28;01mimport\u001b[39;00m MinMaxScaler\n\u001b[0;32m      6\u001b[0m \u001b[38;5;28;01mfrom\u001b[39;00m \u001b[38;5;21;01msklearn\u001b[39;00m\u001b[38;5;21;01m.\u001b[39;00m\u001b[38;5;21;01mmodel_selection\u001b[39;00m \u001b[38;5;28;01mimport\u001b[39;00m train_test_split\n\u001b[1;32m----> 7\u001b[0m \u001b[38;5;28;01mimport\u001b[39;00m \u001b[38;5;21;01mtensorflow\u001b[39;00m \u001b[38;5;28;01mas\u001b[39;00m \u001b[38;5;21;01mtf\u001b[39;00m\n\u001b[0;32m      8\u001b[0m \u001b[38;5;28;01mfrom\u001b[39;00m \u001b[38;5;21;01mkeras\u001b[39;00m \u001b[38;5;28;01mimport\u001b[39;00m layers, Sequential\n\u001b[0;32m      9\u001b[0m \u001b[38;5;28;01mimport\u001b[39;00m \u001b[38;5;21;01mrandom\u001b[39;00m\n",
      "\u001b[1;31mModuleNotFoundError\u001b[0m: No module named 'tensorflow'"
     ]
    }
   ],
   "source": [
    "import pandas as pd\n",
    "import numpy as np\n",
    "import warnings\n",
    "from matplotlib import pyplot as plt\n",
    "from sklearn.preprocessing import MinMaxScaler\n",
    "from sklearn.model_selection import train_test_split\n",
    "import tensorflow as tf\n",
    "from keras import layers, Sequential\n",
    "import random"
   ]
  },
  {
   "cell_type": "code",
   "execution_count": null,
   "id": "9d11f511",
   "metadata": {},
   "outputs": [],
   "source": [
    "warnings.filterwarnings('ignore')"
   ]
  },
  {
   "cell_type": "code",
   "execution_count": null,
   "id": "8d213975",
   "metadata": {},
   "outputs": [],
   "source": [
    "df = pd.read_csv('Customer-Churn.csv')\n",
    "df.head()"
   ]
  },
  {
   "cell_type": "code",
   "execution_count": null,
   "id": "7d7463dc",
   "metadata": {},
   "outputs": [],
   "source": [
    "df.shape"
   ]
  },
  {
   "cell_type": "code",
   "execution_count": null,
   "id": "2a997994",
   "metadata": {
    "scrolled": true
   },
   "outputs": [],
   "source": [
    "df.drop('customerID', axis='columns', inplace=True)\n",
    "df.head()"
   ]
  },
  {
   "cell_type": "code",
   "execution_count": null,
   "id": "766a3dcf",
   "metadata": {},
   "outputs": [],
   "source": [
    "df.isna().sum()"
   ]
  },
  {
   "cell_type": "code",
   "execution_count": null,
   "id": "fb701b4c",
   "metadata": {},
   "outputs": [],
   "source": [
    "df.head()"
   ]
  },
  {
   "cell_type": "code",
   "execution_count": null,
   "id": "eeff17ee",
   "metadata": {},
   "outputs": [],
   "source": [
    "df.dtypes"
   ]
  },
  {
   "cell_type": "code",
   "execution_count": null,
   "id": "21f66464",
   "metadata": {},
   "outputs": [],
   "source": [
    "df.describe()"
   ]
  },
  {
   "cell_type": "code",
   "execution_count": null,
   "id": "eb0825e6",
   "metadata": {
    "scrolled": true
   },
   "outputs": [],
   "source": [
    "df.head()"
   ]
  },
  {
   "cell_type": "code",
   "execution_count": null,
   "id": "faf085d7",
   "metadata": {},
   "outputs": [],
   "source": [
    "df.TotalCharges.values"
   ]
  },
  {
   "cell_type": "code",
   "execution_count": null,
   "id": "ef99dbdf",
   "metadata": {},
   "outputs": [],
   "source": [
    "df[df.TotalCharges == ' ']"
   ]
  },
  {
   "cell_type": "code",
   "execution_count": null,
   "id": "ef5bddd2",
   "metadata": {},
   "outputs": [],
   "source": [
    "df['TotalCharges'] = df['TotalCharges'].str.replace(' ', '')"
   ]
  },
  {
   "cell_type": "code",
   "execution_count": null,
   "id": "6df65750",
   "metadata": {},
   "outputs": [],
   "source": [
    "def convertToFloat(x):\n",
    "    if x != '':\n",
    "        return float(x)\n",
    "    else:\n",
    "        return float(0)"
   ]
  },
  {
   "cell_type": "code",
   "execution_count": null,
   "id": "5ff87cf4",
   "metadata": {},
   "outputs": [],
   "source": [
    "df.TotalCharges = df.TotalCharges.apply(convertToFloat)"
   ]
  },
  {
   "cell_type": "code",
   "execution_count": null,
   "id": "2b2dce2b",
   "metadata": {
    "scrolled": true
   },
   "outputs": [],
   "source": [
    "df.head()"
   ]
  },
  {
   "cell_type": "code",
   "execution_count": null,
   "id": "4e2c11e9",
   "metadata": {
    "scrolled": true
   },
   "outputs": [],
   "source": [
    "df[df.TotalCharges == ' ']"
   ]
  },
  {
   "cell_type": "code",
   "execution_count": null,
   "id": "ec80cb23",
   "metadata": {},
   "outputs": [],
   "source": [
    "df.dtypes"
   ]
  },
  {
   "cell_type": "code",
   "execution_count": null,
   "id": "00bad70e",
   "metadata": {
    "scrolled": true
   },
   "outputs": [],
   "source": [
    "df.head()"
   ]
  },
  {
   "cell_type": "markdown",
   "id": "b1d4cf2c",
   "metadata": {},
   "source": [
    "# FINDING & REPLACING EXTRA UNIQUE VALUES"
   ]
  },
  {
   "cell_type": "code",
   "execution_count": null,
   "id": "29c3241c",
   "metadata": {},
   "outputs": [],
   "source": [
    "def unique(df):\n",
    "    for cols in df:\n",
    "        print(cols, \" \" , df[cols].unique())\n",
    "\n",
    "unique(df)"
   ]
  },
  {
   "cell_type": "code",
   "execution_count": null,
   "id": "dd8f144e",
   "metadata": {},
   "outputs": [],
   "source": [
    "cols = ['MultipleLines', 'OnlineSecurity', 'OnlineBackup', 'DeviceProtection', 'TechSupport', 'StreamingTV', 'StreamingMovies']"
   ]
  },
  {
   "cell_type": "code",
   "execution_count": null,
   "id": "607db1fb",
   "metadata": {},
   "outputs": [],
   "source": [
    "for col in cols:\n",
    "    df[col].replace({\n",
    "        'No internet service' : 'No',\n",
    "        'No phone service' : 'No',\n",
    "    }, inplace=True)"
   ]
  },
  {
   "cell_type": "code",
   "execution_count": null,
   "id": "a6e92509",
   "metadata": {},
   "outputs": [],
   "source": [
    "unique(df)"
   ]
  },
  {
   "cell_type": "code",
   "execution_count": null,
   "id": "e0f3290b",
   "metadata": {
    "scrolled": true
   },
   "outputs": [],
   "source": [
    "df.Churn.unique()"
   ]
  },
  {
   "cell_type": "markdown",
   "id": "5ada1574",
   "metadata": {},
   "source": [
    "# SCALING THE REQUIRED COLUMNS"
   ]
  },
  {
   "cell_type": "code",
   "execution_count": null,
   "id": "5105eca7",
   "metadata": {},
   "outputs": [],
   "source": [
    "scalingCols = ['tenure', 'MonthlyCharges', 'TotalCharges']\n",
    "df[scalingCols] = MinMaxScaler().fit_transform(df[scalingCols])"
   ]
  },
  {
   "cell_type": "code",
   "execution_count": null,
   "id": "70e22c35",
   "metadata": {},
   "outputs": [],
   "source": [
    "def plot(X, Y, x_label, y_label, title, legend):\n",
    "    plt.figure(figsize=(5,4))\n",
    "    plt.hist([X, Y])\n",
    "    plt.legend([legend[0], legend[1]])\n",
    "    plt.xlabel(x_label)\n",
    "    plt.ylabel(y_label)\n",
    "    plt.title(\"CHURNS W.R.T \" + title)"
   ]
  },
  {
   "cell_type": "markdown",
   "id": "504b8af5",
   "metadata": {},
   "source": [
    "# NO. OF CHURN W.R.T TENURE"
   ]
  },
  {
   "cell_type": "code",
   "execution_count": null,
   "id": "3a5fc0b4",
   "metadata": {},
   "outputs": [],
   "source": [
    "df.tenure.unique()"
   ]
  },
  {
   "cell_type": "code",
   "execution_count": null,
   "id": "486027b7",
   "metadata": {},
   "outputs": [],
   "source": [
    "df.tenure.max()"
   ]
  },
  {
   "cell_type": "code",
   "execution_count": null,
   "id": "0faa7d5a",
   "metadata": {},
   "outputs": [],
   "source": [
    "len(df.tenure.unique())"
   ]
  },
  {
   "cell_type": "code",
   "execution_count": null,
   "id": "021470ea",
   "metadata": {},
   "outputs": [],
   "source": [
    "tenureNo = df['tenure'][df.Churn == 'No']\n",
    "tenureYes = df['tenure'][df.Churn == 'Yes']"
   ]
  },
  {
   "cell_type": "code",
   "execution_count": null,
   "id": "f4baa5f4",
   "metadata": {},
   "outputs": [],
   "source": [
    "plot(tenureNo, tenureYes, \"TENURE\", \"No. of PARTNER/Churn\", \"TENURE\", ['No', 'Yes'])"
   ]
  },
  {
   "cell_type": "markdown",
   "id": "b82e86d7",
   "metadata": {},
   "source": [
    "# NO. OF CHURN W.R.T SENIOR CITIZEN"
   ]
  },
  {
   "cell_type": "code",
   "execution_count": null,
   "id": "3b1f87b2",
   "metadata": {},
   "outputs": [],
   "source": [
    "SeniorCitizenChurnNo = df['SeniorCitizen'][df.Churn == 'No']\n",
    "SeniorCitizenChurnYes = df['SeniorCitizen'][df.Churn == 'Yes']"
   ]
  },
  {
   "cell_type": "code",
   "execution_count": null,
   "id": "92e3ce18",
   "metadata": {},
   "outputs": [],
   "source": [
    "SeniorCitizenChurnNo[SeniorCitizenChurnNo == 0].shape"
   ]
  },
  {
   "cell_type": "code",
   "execution_count": null,
   "id": "97451441",
   "metadata": {},
   "outputs": [],
   "source": [
    "SeniorCitizenChurnNo[SeniorCitizenChurnNo == 1].shape"
   ]
  },
  {
   "cell_type": "code",
   "execution_count": null,
   "id": "df0ffde3",
   "metadata": {},
   "outputs": [],
   "source": [
    "SeniorCitizenChurnYes[SeniorCitizenChurnYes == 0].shape"
   ]
  },
  {
   "cell_type": "code",
   "execution_count": null,
   "id": "3f2cff7a",
   "metadata": {},
   "outputs": [],
   "source": [
    "SeniorCitizenChurnYes[SeniorCitizenChurnYes == 1].shape"
   ]
  },
  {
   "cell_type": "code",
   "execution_count": null,
   "id": "616f4d08",
   "metadata": {},
   "outputs": [],
   "source": [
    "plot(SeniorCitizenChurnNo, SeniorCitizenChurnYes, \"CITIZEN\", \"No. of CITIZEN/Churn\", \"CITIZEN\", [\"SC->No\", \"SC->Yes\"])"
   ]
  },
  {
   "cell_type": "code",
   "execution_count": null,
   "id": "84288702",
   "metadata": {
    "scrolled": true
   },
   "outputs": [],
   "source": [
    "df.head()"
   ]
  },
  {
   "cell_type": "markdown",
   "id": "f54c4545",
   "metadata": {},
   "source": [
    "# NO. OF CHURN W.R.T PARTNER"
   ]
  },
  {
   "cell_type": "code",
   "execution_count": null,
   "id": "d2481c77",
   "metadata": {},
   "outputs": [],
   "source": [
    "df.Partner.unique()"
   ]
  },
  {
   "cell_type": "code",
   "execution_count": null,
   "id": "2702a895",
   "metadata": {},
   "outputs": [],
   "source": [
    "partnerChurnNO = df['Partner'][df.Churn == 'No']\n",
    "partnerChurnYES = df['Partner'][df.Churn == 'Yes']"
   ]
  },
  {
   "cell_type": "code",
   "execution_count": null,
   "id": "b068e367",
   "metadata": {},
   "outputs": [],
   "source": [
    "plot(partnerChurnYES, partnerChurnNO, \"PARTNER\", \"No. of PARTNER/Churn\", \"PARTNER\", [\"P->No\", \"P->Yes\"])"
   ]
  },
  {
   "cell_type": "code",
   "execution_count": null,
   "id": "e4b0cd35",
   "metadata": {},
   "outputs": [],
   "source": [
    "df.head()"
   ]
  },
  {
   "cell_type": "markdown",
   "id": "c8718fd2",
   "metadata": {},
   "source": [
    "# NO. OF CHURN W.R.T Dependents"
   ]
  },
  {
   "cell_type": "code",
   "execution_count": null,
   "id": "ac5b672e",
   "metadata": {},
   "outputs": [],
   "source": [
    "df.Dependents.unique()"
   ]
  },
  {
   "cell_type": "code",
   "execution_count": null,
   "id": "25b856a3",
   "metadata": {},
   "outputs": [],
   "source": [
    "dependentsChurnNo = df['Dependents'][df.Churn == 'No']\n",
    "dependentsChurnYes = df['Dependents'][df.Churn == 'Yes']"
   ]
  },
  {
   "cell_type": "code",
   "execution_count": null,
   "id": "214080fa",
   "metadata": {},
   "outputs": [],
   "source": [
    "dependentsChurnNo.shape"
   ]
  },
  {
   "cell_type": "code",
   "execution_count": null,
   "id": "60eae053",
   "metadata": {},
   "outputs": [],
   "source": [
    "dependentsChurnYes.shape"
   ]
  },
  {
   "cell_type": "code",
   "execution_count": null,
   "id": "ecac16ee",
   "metadata": {},
   "outputs": [],
   "source": [
    "plot(dependentsChurnNo, dependentsChurnYes, \"Dependents\", \"No. of Dependents/Churn\", \"Dependents\", [\"D->No\", \"D->Yes\"])"
   ]
  },
  {
   "cell_type": "markdown",
   "id": "47f01ada",
   "metadata": {},
   "source": [
    "# NO. OF CHURN W.R.T Phone Service"
   ]
  },
  {
   "cell_type": "code",
   "execution_count": null,
   "id": "946b203f",
   "metadata": {},
   "outputs": [],
   "source": [
    "df.PhoneService.unique()"
   ]
  },
  {
   "cell_type": "code",
   "execution_count": null,
   "id": "002a9545",
   "metadata": {},
   "outputs": [],
   "source": [
    "phoneServChurnNo = df['PhoneService'][df.Churn == 'No']\n",
    "phoneServChurnYes = df['PhoneService'][df.Churn == 'Yes']"
   ]
  },
  {
   "cell_type": "code",
   "execution_count": null,
   "id": "d77d43e5",
   "metadata": {},
   "outputs": [],
   "source": [
    "phoneServChurnNo[phoneServChurnNo == 'Yes'].shape"
   ]
  },
  {
   "cell_type": "code",
   "execution_count": null,
   "id": "a4296269",
   "metadata": {},
   "outputs": [],
   "source": [
    "phoneServChurnNo[phoneServChurnNo == 'No'].shape"
   ]
  },
  {
   "cell_type": "code",
   "execution_count": null,
   "id": "45a63023",
   "metadata": {},
   "outputs": [],
   "source": [
    "phoneServChurnYes[phoneServChurnYes == 'Yes'].shape"
   ]
  },
  {
   "cell_type": "code",
   "execution_count": null,
   "id": "0bc884f6",
   "metadata": {},
   "outputs": [],
   "source": [
    "phoneServChurnYes[phoneServChurnYes == 'No'].shape"
   ]
  },
  {
   "cell_type": "code",
   "execution_count": null,
   "id": "b2deb72e",
   "metadata": {},
   "outputs": [],
   "source": [
    "plot(phoneServChurnNo, phoneServChurnYes, \"Phone Service\", \"No. of Phone Service/Churn\", \"Phone Service\", [\"Ph->No\", \"Ph->Yes\"])"
   ]
  },
  {
   "cell_type": "code",
   "execution_count": null,
   "id": "8523c7db",
   "metadata": {
    "scrolled": true
   },
   "outputs": [],
   "source": [
    "df.head()"
   ]
  },
  {
   "cell_type": "markdown",
   "id": "5b1c79b4",
   "metadata": {},
   "source": [
    "# NO. OF CHURN W.R.T MultipleLines"
   ]
  },
  {
   "cell_type": "code",
   "execution_count": null,
   "id": "133d32cd",
   "metadata": {},
   "outputs": [],
   "source": [
    "df.MultipleLines.unique()"
   ]
  },
  {
   "cell_type": "code",
   "execution_count": null,
   "id": "9b53436a",
   "metadata": {},
   "outputs": [],
   "source": [
    "multipleLChurnNo = df['MultipleLines'][df.MultipleLines == 'No']\n",
    "multipleLChurnYes = df['MultipleLines'][df.MultipleLines == 'Yes']"
   ]
  },
  {
   "cell_type": "code",
   "execution_count": null,
   "id": "4046494d",
   "metadata": {},
   "outputs": [],
   "source": [
    "multipleLChurnNo[multipleLChurnNo == 'No'].shape"
   ]
  },
  {
   "cell_type": "code",
   "execution_count": null,
   "id": "124a6d49",
   "metadata": {},
   "outputs": [],
   "source": [
    "multipleLChurnNo[multipleLChurnNo == 'Yes'].shape"
   ]
  },
  {
   "cell_type": "code",
   "execution_count": null,
   "id": "841f76e8",
   "metadata": {},
   "outputs": [],
   "source": [
    "multipleLChurnYes[multipleLChurnYes == 'No'].shape"
   ]
  },
  {
   "cell_type": "code",
   "execution_count": null,
   "id": "44ebb339",
   "metadata": {},
   "outputs": [],
   "source": [
    "multipleLChurnYes[multipleLChurnYes == 'Yes'].shape"
   ]
  },
  {
   "cell_type": "code",
   "execution_count": null,
   "id": "e78c7fe8",
   "metadata": {},
   "outputs": [],
   "source": [
    "plot(multipleLChurnNo, multipleLChurnYes, \"MultiLines\", \"No. of MultiLines/Churn\", \"MultiLines\", [\"ML->No\", \"ML->Yes\"])"
   ]
  },
  {
   "cell_type": "code",
   "execution_count": null,
   "id": "40963586",
   "metadata": {
    "scrolled": true
   },
   "outputs": [],
   "source": [
    "df.head()"
   ]
  },
  {
   "cell_type": "code",
   "execution_count": null,
   "id": "53ba9aad",
   "metadata": {
    "scrolled": true
   },
   "outputs": [],
   "source": [
    "df.InternetService.unique()"
   ]
  },
  {
   "cell_type": "markdown",
   "id": "0680291e",
   "metadata": {},
   "source": [
    "# NO. OF CHURN W.R.T OnlineSecurity"
   ]
  },
  {
   "cell_type": "code",
   "execution_count": null,
   "id": "df7d211c",
   "metadata": {},
   "outputs": [],
   "source": [
    "df.OnlineSecurity.unique()"
   ]
  },
  {
   "cell_type": "code",
   "execution_count": null,
   "id": "dac87bc6",
   "metadata": {},
   "outputs": [],
   "source": [
    "onlineSecurityChurnNo = df['OnlineSecurity'][df.Churn == 'No']\n",
    "onlineSecurityChurnYes = df['OnlineSecurity'][df.Churn == 'Yes']"
   ]
  },
  {
   "cell_type": "code",
   "execution_count": null,
   "id": "36302cfd",
   "metadata": {},
   "outputs": [],
   "source": [
    "onlineSecurityChurnNo[onlineSecurityChurnNo == 'No'].shape"
   ]
  },
  {
   "cell_type": "code",
   "execution_count": null,
   "id": "37698d50",
   "metadata": {},
   "outputs": [],
   "source": [
    "onlineSecurityChurnNo[onlineSecurityChurnNo == 'Yes'].shape"
   ]
  },
  {
   "cell_type": "code",
   "execution_count": null,
   "id": "f20791b3",
   "metadata": {},
   "outputs": [],
   "source": [
    "onlineSecurityChurnYes[onlineSecurityChurnYes == 'No'].shape"
   ]
  },
  {
   "cell_type": "code",
   "execution_count": null,
   "id": "3488c190",
   "metadata": {},
   "outputs": [],
   "source": [
    "onlineSecurityChurnYes[onlineSecurityChurnYes == 'Yes'].shape"
   ]
  },
  {
   "cell_type": "code",
   "execution_count": null,
   "id": "16778e16",
   "metadata": {},
   "outputs": [],
   "source": [
    "plot(onlineSecurityChurnNo, onlineSecurityChurnYes, \"Online Security\", \"No. of OnlineSecurity/Churn\", \"OnlineSecurity\", [\"OS->No\", \"OS->Yes\"])"
   ]
  },
  {
   "cell_type": "code",
   "execution_count": null,
   "id": "656b79b5",
   "metadata": {
    "scrolled": true
   },
   "outputs": [],
   "source": [
    "df.head()"
   ]
  },
  {
   "cell_type": "markdown",
   "id": "4ef305e2",
   "metadata": {},
   "source": [
    "# NO. OF CHURN W.R.T OnlineBackup"
   ]
  },
  {
   "cell_type": "code",
   "execution_count": null,
   "id": "fcaa1c3b",
   "metadata": {},
   "outputs": [],
   "source": [
    "df.OnlineBackup.unique()"
   ]
  },
  {
   "cell_type": "code",
   "execution_count": null,
   "id": "18a13658",
   "metadata": {},
   "outputs": [],
   "source": [
    "onlineBackupChurnNo = df['OnlineBackup'][df.Churn == 'No']\n",
    "onlineBackupChurnYes = df['OnlineBackup'][df.Churn == 'Yes']"
   ]
  },
  {
   "cell_type": "code",
   "execution_count": null,
   "id": "7a968fb5",
   "metadata": {},
   "outputs": [],
   "source": [
    "onlineBackupChurnNo[onlineBackupChurnNo == 'No'].shape"
   ]
  },
  {
   "cell_type": "code",
   "execution_count": null,
   "id": "917e7596",
   "metadata": {},
   "outputs": [],
   "source": [
    "onlineBackupChurnNo[onlineBackupChurnNo == 'Yes'].shape"
   ]
  },
  {
   "cell_type": "code",
   "execution_count": null,
   "id": "2c848a33",
   "metadata": {},
   "outputs": [],
   "source": [
    "onlineBackupChurnYes[onlineBackupChurnYes == 'Yes'].shape"
   ]
  },
  {
   "cell_type": "code",
   "execution_count": null,
   "id": "095400b2",
   "metadata": {},
   "outputs": [],
   "source": [
    "onlineBackupChurnYes[onlineBackupChurnYes == 'No'].shape"
   ]
  },
  {
   "cell_type": "code",
   "execution_count": null,
   "id": "0d922a19",
   "metadata": {},
   "outputs": [],
   "source": [
    "plot(onlineBackupChurnNo, onlineBackupChurnYes, \"Online Backup\", \"No. of OnlineBackup/Churn\", \"OnlineBackup\", [\"OB->No\", \"OB->Yes\"])"
   ]
  },
  {
   "cell_type": "code",
   "execution_count": null,
   "id": "f1820f7c",
   "metadata": {},
   "outputs": [],
   "source": [
    "df.head()"
   ]
  },
  {
   "cell_type": "markdown",
   "id": "f5142e09",
   "metadata": {},
   "source": [
    "# NO. OF CHURN W.R.T DeviceProtection"
   ]
  },
  {
   "cell_type": "code",
   "execution_count": null,
   "id": "48822842",
   "metadata": {},
   "outputs": [],
   "source": [
    "df.DeviceProtection.unique()"
   ]
  },
  {
   "cell_type": "code",
   "execution_count": null,
   "id": "b924d764",
   "metadata": {},
   "outputs": [],
   "source": [
    "deviceProNo = df['DeviceProtection'][df.Churn == 'No']\n",
    "deviceProYes = df['DeviceProtection'][df.Churn == 'Yes']"
   ]
  },
  {
   "cell_type": "code",
   "execution_count": null,
   "id": "88a7547a",
   "metadata": {},
   "outputs": [],
   "source": [
    "deviceProNo[deviceProNo == 'No'].shape"
   ]
  },
  {
   "cell_type": "code",
   "execution_count": null,
   "id": "13db6fb9",
   "metadata": {},
   "outputs": [],
   "source": [
    "deviceProNo[deviceProNo == 'Yes'].shape"
   ]
  },
  {
   "cell_type": "code",
   "execution_count": null,
   "id": "3fd034a3",
   "metadata": {},
   "outputs": [],
   "source": [
    "deviceProYes[deviceProYes == 'No'].shape"
   ]
  },
  {
   "cell_type": "code",
   "execution_count": null,
   "id": "1ea50be3",
   "metadata": {},
   "outputs": [],
   "source": [
    "deviceProYes[deviceProYes == 'Yes'].shape"
   ]
  },
  {
   "cell_type": "code",
   "execution_count": null,
   "id": "edd19017",
   "metadata": {},
   "outputs": [],
   "source": [
    "plot(deviceProNo, deviceProYes, \"DeviceProtection\", \"No. of DeviceProtection/Churn\", \"DeviceProtection\", [\"DP->No\", \"DP->Yes\"])"
   ]
  },
  {
   "cell_type": "code",
   "execution_count": null,
   "id": "47c90686",
   "metadata": {
    "scrolled": true
   },
   "outputs": [],
   "source": [
    "df.head()"
   ]
  },
  {
   "cell_type": "markdown",
   "id": "66b1ab8c",
   "metadata": {},
   "source": [
    "# NO. OF CHURN W.R.T TechSupport"
   ]
  },
  {
   "cell_type": "code",
   "execution_count": null,
   "id": "69a48c1d",
   "metadata": {},
   "outputs": [],
   "source": [
    "df.TechSupport.unique()"
   ]
  },
  {
   "cell_type": "code",
   "execution_count": null,
   "id": "3a59b0d4",
   "metadata": {},
   "outputs": [],
   "source": [
    "techSupportChurnNo = df['TechSupport'][df.Churn == 'No']\n",
    "techSupportChurnYes = df['TechSupport'][df.Churn == 'Yes']"
   ]
  },
  {
   "cell_type": "code",
   "execution_count": null,
   "id": "c2c66de0",
   "metadata": {},
   "outputs": [],
   "source": [
    "techSupportChurnNo[techSupportChurnNo == 'No'].shape"
   ]
  },
  {
   "cell_type": "code",
   "execution_count": null,
   "id": "ec7bc255",
   "metadata": {},
   "outputs": [],
   "source": [
    "techSupportChurnNo[techSupportChurnNo == 'Yes'].shape"
   ]
  },
  {
   "cell_type": "code",
   "execution_count": null,
   "id": "94e31336",
   "metadata": {},
   "outputs": [],
   "source": [
    "techSupportChurnYes[techSupportChurnYes == 'Yes'].shape"
   ]
  },
  {
   "cell_type": "code",
   "execution_count": null,
   "id": "5d04a701",
   "metadata": {},
   "outputs": [],
   "source": [
    "plot(techSupportChurnNo, techSupportChurnYes, \"TechSupport\", \"No. of TechSupport/Churn\", \"TechSupport\", [\"TS->No\", \"TS->Yes\"])"
   ]
  },
  {
   "cell_type": "code",
   "execution_count": null,
   "id": "ecf25f29",
   "metadata": {},
   "outputs": [],
   "source": [
    "df.head()"
   ]
  },
  {
   "cell_type": "markdown",
   "id": "8efb35b2",
   "metadata": {},
   "source": [
    "# NO. OF CHURN W.R.T StreamingTV"
   ]
  },
  {
   "cell_type": "code",
   "execution_count": null,
   "id": "92dba6d2",
   "metadata": {},
   "outputs": [],
   "source": [
    "df.StreamingTV.unique()"
   ]
  },
  {
   "cell_type": "code",
   "execution_count": null,
   "id": "06677496",
   "metadata": {},
   "outputs": [],
   "source": [
    "StreamingTVChurnNo = df['StreamingTV'][df.Churn == 'No']\n",
    "StreamingTVChurnYes = df['StreamingTV'][df.Churn == 'Yes']"
   ]
  },
  {
   "cell_type": "code",
   "execution_count": null,
   "id": "9e07dcf3",
   "metadata": {},
   "outputs": [],
   "source": [
    "StreamingTVChurnNo[StreamingTVChurnNo == 'No'].shape"
   ]
  },
  {
   "cell_type": "code",
   "execution_count": null,
   "id": "8fa64e72",
   "metadata": {},
   "outputs": [],
   "source": [
    "StreamingTVChurnNo[StreamingTVChurnNo == 'Yes'].shape"
   ]
  },
  {
   "cell_type": "code",
   "execution_count": null,
   "id": "ed574ff0",
   "metadata": {},
   "outputs": [],
   "source": [
    "StreamingTVChurnYes[StreamingTVChurnYes == 'No'].shape"
   ]
  },
  {
   "cell_type": "code",
   "execution_count": null,
   "id": "75360883",
   "metadata": {},
   "outputs": [],
   "source": [
    "StreamingTVChurnYes[StreamingTVChurnYes == 'Yes'].shape"
   ]
  },
  {
   "cell_type": "code",
   "execution_count": null,
   "id": "1f88e136",
   "metadata": {},
   "outputs": [],
   "source": [
    "plot(StreamingTVChurnNo, StreamingTVChurnYes, \"StreamingTV\", \"No. of StreamingTV/Churn\", \"StreamingTV\", [\"StV->No\", \"StV->Yes\"])"
   ]
  },
  {
   "cell_type": "code",
   "execution_count": null,
   "id": "01bf4b3a",
   "metadata": {},
   "outputs": [],
   "source": [
    "df.head()"
   ]
  },
  {
   "cell_type": "markdown",
   "id": "34828895",
   "metadata": {},
   "source": [
    "# NO. OF CHURN W.R.T StreamingMovies"
   ]
  },
  {
   "cell_type": "code",
   "execution_count": null,
   "id": "0abb4cc4",
   "metadata": {},
   "outputs": [],
   "source": [
    "df.StreamingMovies.unique()"
   ]
  },
  {
   "cell_type": "code",
   "execution_count": null,
   "id": "02a07965",
   "metadata": {},
   "outputs": [],
   "source": [
    "StreamingMoviesChurnNo = df['StreamingMovies'][df.Churn == 'No']\n",
    "StreamingMoviesChurnYes = df['StreamingMovies'][df.Churn == 'Yes']"
   ]
  },
  {
   "cell_type": "code",
   "execution_count": null,
   "id": "41d42b09",
   "metadata": {},
   "outputs": [],
   "source": [
    "StreamingMoviesChurnNo[StreamingMoviesChurnNo == 'No'].shape"
   ]
  },
  {
   "cell_type": "code",
   "execution_count": null,
   "id": "67036626",
   "metadata": {},
   "outputs": [],
   "source": [
    "StreamingMoviesChurnNo[StreamingMoviesChurnNo == 'Yes'].shape"
   ]
  },
  {
   "cell_type": "code",
   "execution_count": null,
   "id": "14a484ac",
   "metadata": {},
   "outputs": [],
   "source": [
    "StreamingMoviesChurnYes[StreamingMoviesChurnYes == 'No'].shape"
   ]
  },
  {
   "cell_type": "code",
   "execution_count": null,
   "id": "7be29a05",
   "metadata": {},
   "outputs": [],
   "source": [
    "StreamingMoviesChurnYes[StreamingMoviesChurnYes == 'Yes'].shape"
   ]
  },
  {
   "cell_type": "code",
   "execution_count": null,
   "id": "9aec89c8",
   "metadata": {},
   "outputs": [],
   "source": [
    "plot(StreamingMoviesChurnNo, StreamingMoviesChurnYes, \"StreamingMovies\", \"No. of StreamingMovies/Churn\", \"StreamingMovies\", [\"SM->No\", \"SM->Yes\"])"
   ]
  },
  {
   "cell_type": "code",
   "execution_count": null,
   "id": "be3b54db",
   "metadata": {},
   "outputs": [],
   "source": [
    "df.head()"
   ]
  },
  {
   "cell_type": "code",
   "execution_count": null,
   "id": "5eba35e4",
   "metadata": {},
   "outputs": [],
   "source": [
    "df.gender.replace({\n",
    "    'Female' : '0',\n",
    "    'Male' : '1'\n",
    "}, inplace=True)"
   ]
  },
  {
   "cell_type": "code",
   "execution_count": null,
   "id": "7a1ea9d8",
   "metadata": {},
   "outputs": [],
   "source": [
    "unique(df)"
   ]
  },
  {
   "cell_type": "code",
   "execution_count": null,
   "id": "6c5221fa",
   "metadata": {},
   "outputs": [],
   "source": [
    "replaceCols = ['Partner', 'Dependents', 'PhoneService', 'MultipleLines', 'OnlineSecurity', 'OnlineBackup', \n",
    "               'DeviceProtection', 'TechSupport', 'StreamingTV', 'StreamingMovies', 'PaperlessBilling', 'Churn']"
   ]
  },
  {
   "cell_type": "code",
   "execution_count": null,
   "id": "1e2066c5",
   "metadata": {},
   "outputs": [],
   "source": [
    "for i in replaceCols:\n",
    "    df[i].replace({\n",
    "        'No' : '0',\n",
    "        'Yes' : '1'\n",
    "    }, inplace=True)"
   ]
  },
  {
   "cell_type": "code",
   "execution_count": null,
   "id": "2c4cb756",
   "metadata": {
    "scrolled": true
   },
   "outputs": [],
   "source": [
    "df.head()"
   ]
  },
  {
   "cell_type": "code",
   "execution_count": null,
   "id": "616b2e57",
   "metadata": {},
   "outputs": [],
   "source": [
    "unique(df)"
   ]
  },
  {
   "cell_type": "code",
   "execution_count": null,
   "id": "5b2859e0",
   "metadata": {},
   "outputs": [],
   "source": [
    "df.dtypes"
   ]
  },
  {
   "cell_type": "code",
   "execution_count": null,
   "id": "352b3d56",
   "metadata": {},
   "outputs": [],
   "source": [
    "df.dtypes"
   ]
  },
  {
   "cell_type": "code",
   "execution_count": null,
   "id": "42b2eefc",
   "metadata": {},
   "outputs": [],
   "source": [
    "dummiesCols = ['InternetService', 'Contract', 'PaymentMethod']"
   ]
  },
  {
   "cell_type": "code",
   "execution_count": null,
   "id": "45e7fd83",
   "metadata": {
    "scrolled": true
   },
   "outputs": [],
   "source": [
    "df1 = pd.get_dummies(data=df, columns=dummiesCols, dtype='int32')\n",
    "df1.head()"
   ]
  },
  {
   "cell_type": "code",
   "execution_count": null,
   "id": "140dc7c4",
   "metadata": {},
   "outputs": [],
   "source": [
    "df2 = pd.get_dummies(data=df, columns=dummiesCols, dtype='int32', drop_first=True)\n",
    "df2.head()"
   ]
  },
  {
   "cell_type": "code",
   "execution_count": null,
   "id": "6ba7276a",
   "metadata": {},
   "outputs": [],
   "source": [
    "unique(df)"
   ]
  },
  {
   "cell_type": "code",
   "execution_count": null,
   "id": "5dd1308a",
   "metadata": {},
   "outputs": [],
   "source": [
    "unique(df1)"
   ]
  },
  {
   "cell_type": "code",
   "execution_count": null,
   "id": "8d68a7a3",
   "metadata": {},
   "outputs": [],
   "source": [
    "unique(df2)"
   ]
  },
  {
   "cell_type": "code",
   "execution_count": null,
   "id": "4bd0a724",
   "metadata": {},
   "outputs": [],
   "source": [
    "X = df1.drop(['Churn'], axis='columns')\n",
    "y = df1.Churn"
   ]
  },
  {
   "cell_type": "code",
   "execution_count": null,
   "id": "61460d4f",
   "metadata": {},
   "outputs": [],
   "source": [
    "X.head()"
   ]
  },
  {
   "cell_type": "code",
   "execution_count": null,
   "id": "020739ce",
   "metadata": {
    "scrolled": true
   },
   "outputs": [],
   "source": [
    "X.shape"
   ]
  },
  {
   "cell_type": "code",
   "execution_count": null,
   "id": "70c37f3b",
   "metadata": {},
   "outputs": [],
   "source": [
    "for i in X:\n",
    "    if X[i].dtype == 'object':\n",
    "        X[i] = pd.to_numeric(X[i])"
   ]
  },
  {
   "cell_type": "code",
   "execution_count": null,
   "id": "94a17b38",
   "metadata": {},
   "outputs": [],
   "source": [
    "X.dtypes"
   ]
  },
  {
   "cell_type": "code",
   "execution_count": null,
   "id": "2bfcdb42",
   "metadata": {},
   "outputs": [],
   "source": [
    "y.head()"
   ]
  },
  {
   "cell_type": "code",
   "execution_count": null,
   "id": "3cc6db0c",
   "metadata": {},
   "outputs": [],
   "source": [
    "y.shape"
   ]
  },
  {
   "cell_type": "code",
   "execution_count": null,
   "id": "d06616cd",
   "metadata": {},
   "outputs": [],
   "source": [
    "X_train, X_test, y_train, y_test = train_test_split(X, y, test_size=0.2)"
   ]
  },
  {
   "cell_type": "code",
   "execution_count": null,
   "id": "a6928eae",
   "metadata": {},
   "outputs": [],
   "source": [
    "len(X_train)"
   ]
  },
  {
   "cell_type": "code",
   "execution_count": null,
   "id": "3b101716",
   "metadata": {},
   "outputs": [],
   "source": [
    "len(X_test)"
   ]
  },
  {
   "cell_type": "code",
   "execution_count": null,
   "id": "d839b770",
   "metadata": {},
   "outputs": [],
   "source": [
    "len(y_train)"
   ]
  },
  {
   "cell_type": "code",
   "execution_count": null,
   "id": "19722685",
   "metadata": {
    "scrolled": true
   },
   "outputs": [],
   "source": [
    "len(y_test)"
   ]
  },
  {
   "cell_type": "code",
   "execution_count": null,
   "id": "7ed52db1",
   "metadata": {
    "scrolled": true
   },
   "outputs": [],
   "source": [
    "X_train.dtypes"
   ]
  },
  {
   "cell_type": "code",
   "execution_count": null,
   "id": "c6e103e8",
   "metadata": {},
   "outputs": [],
   "source": [
    "y_train = y_train.astype('int64')"
   ]
  },
  {
   "cell_type": "code",
   "execution_count": null,
   "id": "79438aaf",
   "metadata": {
    "scrolled": true
   },
   "outputs": [],
   "source": [
    "model = Sequential([\n",
    "    layers.Flatten(input_shape=(26,)),\n",
    "    layers.Dense(1, activation='sigmoid')\n",
    "])\n",
    "model.compile(optimizer='adam', loss='binary_crossentropy', metrics=['accuracy'])\n",
    "model.fit(X_train, y_train, epochs=10)"
   ]
  },
  {
   "cell_type": "code",
   "execution_count": null,
   "id": "87e8371a",
   "metadata": {},
   "outputs": [],
   "source": [
    "y_test = y_test.astype('int64')"
   ]
  },
  {
   "cell_type": "code",
   "execution_count": null,
   "id": "fb4a6452",
   "metadata": {
    "scrolled": true
   },
   "outputs": [],
   "source": [
    "model.evaluate(X_test, y_test)"
   ]
  },
  {
   "cell_type": "code",
   "execution_count": null,
   "id": "f528eb45",
   "metadata": {},
   "outputs": [],
   "source": [
    "y_pred = model.predict(X_test)"
   ]
  },
  {
   "cell_type": "code",
   "execution_count": null,
   "id": "10a4a28f",
   "metadata": {},
   "outputs": [],
   "source": [
    "y_test = np.array(y_test)"
   ]
  },
  {
   "cell_type": "code",
   "execution_count": null,
   "id": "6c7abbeb",
   "metadata": {},
   "outputs": [],
   "source": [
    "def predictions(index):\n",
    "    y_pred_ = round(y_pred[index][0])\n",
    "    y_test_ = y_test[index]\n",
    "    print(\"Y PREDICT = \", y_pred_)\n",
    "    print(\"Y TRUE = \", y_test_)\n",
    "    if y_pred_ != y_test_:\n",
    "        print(\"FALSE\")\n",
    "    else:\n",
    "        print(\"TRUE\")\n",
    "    print()"
   ]
  },
  {
   "cell_type": "code",
   "execution_count": null,
   "id": "c5c0e7de",
   "metadata": {},
   "outputs": [],
   "source": [
    "for i in range(5):\n",
    "    predictions(random.randint(0, 1300))"
   ]
  },
  {
   "cell_type": "code",
   "execution_count": null,
   "id": "931bb58a",
   "metadata": {},
   "outputs": [],
   "source": []
  },
  {
   "cell_type": "code",
   "execution_count": null,
   "id": "d19a0bb6",
   "metadata": {},
   "outputs": [],
   "source": []
  },
  {
   "cell_type": "code",
   "execution_count": null,
   "id": "e74f8cee",
   "metadata": {},
   "outputs": [],
   "source": []
  },
  {
   "cell_type": "code",
   "execution_count": null,
   "id": "4301f02f",
   "metadata": {},
   "outputs": [],
   "source": []
  },
  {
   "cell_type": "code",
   "execution_count": null,
   "id": "74ece1f0",
   "metadata": {},
   "outputs": [],
   "source": []
  },
  {
   "cell_type": "code",
   "execution_count": null,
   "id": "15ef16f1",
   "metadata": {},
   "outputs": [],
   "source": []
  },
  {
   "cell_type": "code",
   "execution_count": null,
   "id": "81f5e80c",
   "metadata": {},
   "outputs": [],
   "source": []
  }
 ],
 "metadata": {
  "kernelspec": {
   "display_name": "Python 3 (ipykernel)",
   "language": "python",
   "name": "python3"
  },
  "language_info": {
   "codemirror_mode": {
    "name": "ipython",
    "version": 3
   },
   "file_extension": ".py",
   "mimetype": "text/x-python",
   "name": "python",
   "nbconvert_exporter": "python",
   "pygments_lexer": "ipython3",
   "version": "3.11.5"
  }
 },
 "nbformat": 4,
 "nbformat_minor": 5
}
