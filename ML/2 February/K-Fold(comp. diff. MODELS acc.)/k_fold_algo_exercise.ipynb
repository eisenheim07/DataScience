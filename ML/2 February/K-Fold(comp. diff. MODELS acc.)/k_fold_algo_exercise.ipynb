{
 "cells": [
  {
   "cell_type": "code",
   "execution_count": 1,
   "id": "81adab77",
   "metadata": {},
   "outputs": [],
   "source": [
    "# K-FOLD ALGORITHM EXERCISE"
   ]
  },
  {
   "cell_type": "code",
   "execution_count": 2,
   "id": "5eaa7eb2",
   "metadata": {},
   "outputs": [],
   "source": [
    "from sklearn.datasets import load_digits\n",
    "from sklearn.model_selection import train_test_split\n",
    "from sklearn.linear_model import LogisticRegression, LinearRegression\n",
    "from sklearn.tree import DecisionTreeClassifier\n",
    "from sklearn.svm import SVC\n",
    "from sklearn.ensemble import RandomForestClassifier\n",
    "import numpy as np"
   ]
  },
  {
   "cell_type": "code",
   "execution_count": 3,
   "id": "dadff434",
   "metadata": {},
   "outputs": [],
   "source": [
    "digits = load_digits()"
   ]
  },
  {
   "cell_type": "markdown",
   "id": "670224e9",
   "metadata": {},
   "source": [
    "###### THE PROBLEM WITH train_test_split METHOD IS THAT SOMETIMES IT DOESN'T DISTRIBUTE THE DATA IN VARIATION AS A RESULT EVERY TIME MODELS SCORE CHANGES i.e. ITS SHOWS REFLECTION ON MODEL ACCURACY => TO RESOLVE THIS PROBLEM WE HAVE 'K-Fold ALGORITHM'."
   ]
  },
  {
   "cell_type": "code",
   "execution_count": 4,
   "id": "687e3a3c",
   "metadata": {},
   "outputs": [],
   "source": [
    "X_train, X_test, y_train, y_test = train_test_split(digits.data, digits.target, test_size=0.3)"
   ]
  },
  {
   "cell_type": "code",
   "execution_count": 5,
   "id": "1cc716b3",
   "metadata": {},
   "outputs": [
    {
     "data": {
      "text/plain": [
       "0.9703703703703703"
      ]
     },
     "execution_count": 5,
     "metadata": {},
     "output_type": "execute_result"
    }
   ],
   "source": [
    "model = LogisticRegression(max_iter=10000)\n",
    "model.fit(X_train, y_train)\n",
    "model.score(X_test, y_test)"
   ]
  },
  {
   "cell_type": "code",
   "execution_count": 6,
   "id": "b58d652c",
   "metadata": {},
   "outputs": [
    {
     "data": {
      "text/plain": [
       "0.8203703703703704"
      ]
     },
     "execution_count": 6,
     "metadata": {},
     "output_type": "execute_result"
    }
   ],
   "source": [
    "model = DecisionTreeClassifier()\n",
    "model.fit(X_train, y_train)\n",
    "model.score(X_test, y_test)"
   ]
  },
  {
   "cell_type": "code",
   "execution_count": 7,
   "id": "b3419145",
   "metadata": {},
   "outputs": [
    {
     "data": {
      "text/plain": [
       "0.9925925925925926"
      ]
     },
     "execution_count": 7,
     "metadata": {},
     "output_type": "execute_result"
    }
   ],
   "source": [
    "model = SVC()\n",
    "model.fit(X_train, y_train)\n",
    "model.score(X_test, y_test)"
   ]
  },
  {
   "cell_type": "code",
   "execution_count": 8,
   "id": "407c5f62",
   "metadata": {},
   "outputs": [
    {
     "data": {
      "text/plain": [
       "0.9833333333333333"
      ]
     },
     "execution_count": 8,
     "metadata": {},
     "output_type": "execute_result"
    }
   ],
   "source": [
    "model = RandomForestClassifier()\n",
    "model.fit(X_train, y_train)\n",
    "model.score(X_test, y_test)"
   ]
  },
  {
   "cell_type": "markdown",
   "id": "625a9ed4",
   "metadata": {},
   "source": [
    "###### SOLUTION"
   ]
  },
  {
   "cell_type": "markdown",
   "id": "2abd1471",
   "metadata": {},
   "source": [
    "###### 1.) TYPICAL WAY OF COMPARING MODEL ACCURACY"
   ]
  },
  {
   "cell_type": "code",
   "execution_count": 9,
   "id": "afee3c87",
   "metadata": {},
   "outputs": [],
   "source": [
    "from sklearn.model_selection import KFold"
   ]
  },
  {
   "cell_type": "code",
   "execution_count": 10,
   "id": "6991d53d",
   "metadata": {},
   "outputs": [
    {
     "data": {
      "text/plain": [
       "KFold(n_splits=5, random_state=None, shuffle=False)"
      ]
     },
     "execution_count": 10,
     "metadata": {},
     "output_type": "execute_result"
    }
   ],
   "source": [
    "kf = KFold()\n",
    "kf"
   ]
  },
  {
   "cell_type": "code",
   "execution_count": 11,
   "id": "944f923e",
   "metadata": {
    "scrolled": true
   },
   "outputs": [
    {
     "name": "stdout",
     "output_type": "stream",
     "text": [
      "[2 3 4 5 6 7 8 9] [0 1]\n",
      "[0 1 4 5 6 7 8 9] [2 3]\n",
      "[0 1 2 3 6 7 8 9] [4 5]\n",
      "[0 1 2 3 4 5 8 9] [6 7]\n",
      "[0 1 2 3 4 5 6 7] [8 9]\n"
     ]
    }
   ],
   "source": [
    "for train, test in kf.split([1,2,3,4,5,6,7,8,9,10]):\n",
    "    print(train, test)"
   ]
  },
  {
   "cell_type": "code",
   "execution_count": 12,
   "id": "d6144ecc",
   "metadata": {},
   "outputs": [
    {
     "data": {
      "text/plain": [
       "StratifiedKFold(n_splits=3, random_state=None, shuffle=False)"
      ]
     },
     "execution_count": 12,
     "metadata": {},
     "output_type": "execute_result"
    }
   ],
   "source": [
    "from sklearn.model_selection import StratifiedKFold\n",
    "skf = StratifiedKFold(n_splits=3)\n",
    "skf"
   ]
  },
  {
   "cell_type": "code",
   "execution_count": 13,
   "id": "9a312feb",
   "metadata": {},
   "outputs": [],
   "source": [
    "def get_score(model, X_train, X_test, y_train, y_test):\n",
    "    model.fit(X_train, y_train)\n",
    "    return model.score(X_test, y_test)"
   ]
  },
  {
   "cell_type": "code",
   "execution_count": 14,
   "id": "1a08b0e3",
   "metadata": {},
   "outputs": [],
   "source": [
    "score_linr = []\n",
    "score_logr = []\n",
    "score_dt = []\n",
    "score_svc = []\n",
    "score_rfc = []\n",
    "# score = {}\n",
    "\n",
    "for train, test in skf.split(digits.data, digits.target):\n",
    "    X_train, X_test, y_train, y_test = digits.data[train], digits.data[test], digits.target[train], digits.target[test]\n",
    "    score_linr.append(get_score(LinearRegression(), X_train, X_test, y_train, y_test))\n",
    "    score_logr.append(get_score(LogisticRegression(max_iter=10000), X_train, X_test, y_train, y_test))\n",
    "    score_dt.append(get_score(DecisionTreeClassifier(), X_train, X_test, y_train, y_test))\n",
    "    score_svc.append(get_score(SVC(), X_train, X_test, y_train, y_test))\n",
    "    score_rfc.append(get_score(RandomForestClassifier(), X_train, X_test, y_train, y_test))\n",
    "#     score['score'] = {\n",
    "#         \"logistic_score\" : score_lr,\n",
    "#         \"decision_tree_score\" : score_dt,\n",
    "#         \"svm_score\" : score_svc,\n",
    "#         \"random_forest_score\" : score_rfc\n",
    "#     }"
   ]
  },
  {
   "cell_type": "code",
   "execution_count": 15,
   "id": "8c2dc355",
   "metadata": {},
   "outputs": [
    {
     "name": "stdout",
     "output_type": "stream",
     "text": [
      "LINEAR REGRESSION SCORE = \n",
      " [0.5170851293958866, 0.5656905210689886, 0.4196685566691414]\n",
      "\n",
      "LOGISTIC REGRESSION SCORE = \n",
      " [0.9248747913188647, 0.9415692821368948, 0.9232053422370617]\n",
      "\n",
      "Decision TREE SCORE = \n",
      " [0.7462437395659433, 0.8263772954924875, 0.7746243739565943]\n",
      "\n",
      "SVM SCORE = \n",
      " [0.9649415692821369, 0.9799666110183639, 0.9649415692821369]\n",
      "\n",
      "RANDOM FOREST SCORE = \n",
      " [0.9382303839732888, 0.9599332220367279, 0.9348914858096828]\n"
     ]
    }
   ],
   "source": [
    "print(\"LINEAR REGRESSION SCORE = \\n\", score_linr)\n",
    "print()\n",
    "print(\"LOGISTIC REGRESSION SCORE = \\n\", score_logr)\n",
    "print()\n",
    "print(\"Decision TREE SCORE = \\n\", score_dt)\n",
    "print()\n",
    "print(\"SVM SCORE = \\n\", score_svc)\n",
    "print()\n",
    "print(\"RANDOM FOREST SCORE = \\n\", score_rfc)"
   ]
  },
  {
   "cell_type": "markdown",
   "id": "47af877b",
   "metadata": {},
   "source": [
    "###### 2.) EASIEST WAY OF COMPARING MODEL ACCURACY"
   ]
  },
  {
   "cell_type": "code",
   "execution_count": 16,
   "id": "00c4b65b",
   "metadata": {},
   "outputs": [
    {
     "data": {
      "text/plain": [
       "array([0.48346048, 0.5583603 , 0.57534522, 0.5056632 , 0.40995457])"
      ]
     },
     "execution_count": 16,
     "metadata": {},
     "output_type": "execute_result"
    }
   ],
   "source": [
    "from sklearn.model_selection import cross_val_score\n",
    "cross_val_score(LinearRegression(), digits.data, digits.target)"
   ]
  },
  {
   "cell_type": "code",
   "execution_count": 17,
   "id": "d884d87b",
   "metadata": {},
   "outputs": [
    {
     "data": {
      "text/plain": [
       "array([0.925     , 0.875     , 0.93871866, 0.93314763, 0.89693593])"
      ]
     },
     "execution_count": 17,
     "metadata": {},
     "output_type": "execute_result"
    }
   ],
   "source": [
    "cross_val_score(LogisticRegression(max_iter=10000), digits.data, digits.target)"
   ]
  },
  {
   "cell_type": "code",
   "execution_count": 18,
   "id": "dfa7e0cd",
   "metadata": {},
   "outputs": [
    {
     "data": {
      "text/plain": [
       "array([0.77777778, 0.72222222, 0.80501393, 0.8356546 , 0.78551532])"
      ]
     },
     "execution_count": 18,
     "metadata": {},
     "output_type": "execute_result"
    }
   ],
   "source": [
    "cross_val_score(DecisionTreeClassifier(), digits.data, digits.target)"
   ]
  },
  {
   "cell_type": "code",
   "execution_count": 19,
   "id": "b1e3209f",
   "metadata": {},
   "outputs": [
    {
     "data": {
      "text/plain": [
       "array([0.96111111, 0.94444444, 0.98328691, 0.98885794, 0.93871866])"
      ]
     },
     "execution_count": 19,
     "metadata": {},
     "output_type": "execute_result"
    }
   ],
   "source": [
    "cross_val_score(SVC(), digits.data, digits.target)"
   ]
  },
  {
   "cell_type": "code",
   "execution_count": 20,
   "id": "e35c232a",
   "metadata": {},
   "outputs": [
    {
     "data": {
      "text/plain": [
       "array([0.93611111, 0.88333333, 0.95543175, 0.95264624, 0.92200557])"
      ]
     },
     "execution_count": 20,
     "metadata": {},
     "output_type": "execute_result"
    }
   ],
   "source": [
    "cross_val_score(RandomForestClassifier(), digits.data, digits.target)"
   ]
  }
 ],
 "metadata": {
  "kernelspec": {
   "display_name": "Python 3 (ipykernel)",
   "language": "python",
   "name": "python3"
  },
  "language_info": {
   "codemirror_mode": {
    "name": "ipython",
    "version": 3
   },
   "file_extension": ".py",
   "mimetype": "text/x-python",
   "name": "python",
   "nbconvert_exporter": "python",
   "pygments_lexer": "ipython3",
   "version": "3.11.5"
  }
 },
 "nbformat": 4,
 "nbformat_minor": 5
}
