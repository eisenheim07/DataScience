{
 "cells": [
  {
   "cell_type": "code",
   "execution_count": 1,
   "id": "d8ea1d27",
   "metadata": {},
   "outputs": [],
   "source": [
    "# COST FUNCTIONS AND LOSS"
   ]
  },
  {
   "cell_type": "code",
   "execution_count": 3,
   "id": "bac2e36e",
   "metadata": {},
   "outputs": [],
   "source": [
    "import numpy as np"
   ]
  },
  {
   "cell_type": "code",
   "execution_count": 94,
   "id": "61a3d19b",
   "metadata": {},
   "outputs": [
    {
     "name": "stdout",
     "output_type": "stream",
     "text": [
      "DIFFERENCE/LOSS =  [0.7 0.3 1.  0.  0.5]\n",
      "SUMMATION =  2.5\n",
      "MAE/COST =  0.5\n",
      "DIRECTLY MAE (COST) =  0.5\n",
      "\n",
      "DIFFERENCE/LOSS =  [0.7 0.3 1.  0.  0.5]\n",
      "SQUARE =  [0.48999999999999994, 0.09000000000000002, 1.0, 0.0, 0.25]\n",
      "SUMMATION =  1.83\n",
      "MSE/COST =  0.36600000000000005\n",
      "DIRECTLY MSE (COST) =  0.366\n"
     ]
    }
   ],
   "source": [
    "y_pred = np.array([1,1,0,0,1])\n",
    "y_true = np.array([0.3,0.7,1,0,0.5])\n",
    "\n",
    "mae(y_pred, y_true)\n",
    "print(\"DIRECTLY MAE (COST) = \", np.mean(abs(y_pred-y_true)))\n",
    "print()\n",
    "mse(y_pred, y_true)\n",
    "print(\"DIRECTLY MSE (COST) = \", np.mean([vals**2 for vals in abs(y_true - y_pred)]))"
   ]
  },
  {
   "cell_type": "code",
   "execution_count": 69,
   "id": "e405447e",
   "metadata": {},
   "outputs": [],
   "source": [
    "def mae(y_pred, y_true):\n",
    "    print(\"DIFFERENCE/LOSS = \", abs(y_true - y_pred))\n",
    "    print(\"SUMMATION = \", sum(vals for vals in abs(y_true - y_pred)))\n",
    "    print(\"MAE/COST = \", 1/len(y_pred)*sum(vals for vals in abs(y_true - y_pred)))"
   ]
  },
  {
   "cell_type": "code",
   "execution_count": 96,
   "id": "09550ccc",
   "metadata": {},
   "outputs": [],
   "source": [
    "def mse(y_pred, y_true):\n",
    "    print(\"DIFFERENCE/LOSS = \", abs(y_true - y_pred))\n",
    "    print(\"SQUARE = \", [vals**2 for vals in abs(y_true - y_pred)])\n",
    "    print(\"SUMMATION = \", sum([vals**2 for vals in abs(y_true - y_pred)]))\n",
    "    print(\"MSE/COST = \", 1/len(y_pred)*sum(vals**2 for vals in abs(y_true - y_pred)))"
   ]
  }
 ],
 "metadata": {
  "kernelspec": {
   "display_name": "Python 3 (ipykernel)",
   "language": "python",
   "name": "python3"
  },
  "language_info": {
   "codemirror_mode": {
    "name": "ipython",
    "version": 3
   },
   "file_extension": ".py",
   "mimetype": "text/x-python",
   "name": "python",
   "nbconvert_exporter": "python",
   "pygments_lexer": "ipython3",
   "version": "3.11.5"
  }
 },
 "nbformat": 4,
 "nbformat_minor": 5
}
