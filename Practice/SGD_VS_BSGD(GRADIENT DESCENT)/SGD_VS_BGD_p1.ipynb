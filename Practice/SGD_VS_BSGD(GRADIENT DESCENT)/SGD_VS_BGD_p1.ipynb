{
 "cells": [
  {
   "cell_type": "code",
   "execution_count": 1,
   "id": "dab5d3d5",
   "metadata": {},
   "outputs": [],
   "source": [
    "# Stochastic Gradient Descent vs Batch Gradient Descent vs Mini Batch Gradient Descent PRACTICE_1"
   ]
  },
  {
   "cell_type": "code",
   "execution_count": 2,
   "id": "dfd4b143",
   "metadata": {},
   "outputs": [],
   "source": [
    "import pandas as pd\n",
    "from sklearn.preprocessing import MinMaxScaler\n",
    "import numpy as np\n",
    "from matplotlib import pyplot as plt\n",
    "import random"
   ]
  },
  {
   "cell_type": "code",
   "execution_count": 3,
   "id": "befe16c4",
   "metadata": {},
   "outputs": [
    {
     "data": {
      "text/html": [
       "<div>\n",
       "<style scoped>\n",
       "    .dataframe tbody tr th:only-of-type {\n",
       "        vertical-align: middle;\n",
       "    }\n",
       "\n",
       "    .dataframe tbody tr th {\n",
       "        vertical-align: top;\n",
       "    }\n",
       "\n",
       "    .dataframe thead th {\n",
       "        text-align: right;\n",
       "    }\n",
       "</style>\n",
       "<table border=\"1\" class=\"dataframe\">\n",
       "  <thead>\n",
       "    <tr style=\"text-align: right;\">\n",
       "      <th></th>\n",
       "      <th>area</th>\n",
       "      <th>bedrooms</th>\n",
       "      <th>price</th>\n",
       "    </tr>\n",
       "  </thead>\n",
       "  <tbody>\n",
       "    <tr>\n",
       "      <th>0</th>\n",
       "      <td>1056</td>\n",
       "      <td>2</td>\n",
       "      <td>39.07</td>\n",
       "    </tr>\n",
       "    <tr>\n",
       "      <th>1</th>\n",
       "      <td>2600</td>\n",
       "      <td>4</td>\n",
       "      <td>120.00</td>\n",
       "    </tr>\n",
       "    <tr>\n",
       "      <th>2</th>\n",
       "      <td>1440</td>\n",
       "      <td>3</td>\n",
       "      <td>62.00</td>\n",
       "    </tr>\n",
       "    <tr>\n",
       "      <th>3</th>\n",
       "      <td>1521</td>\n",
       "      <td>3</td>\n",
       "      <td>75.00</td>\n",
       "    </tr>\n",
       "    <tr>\n",
       "      <th>4</th>\n",
       "      <td>1200</td>\n",
       "      <td>2</td>\n",
       "      <td>51.00</td>\n",
       "    </tr>\n",
       "  </tbody>\n",
       "</table>\n",
       "</div>"
      ],
      "text/plain": [
       "   area  bedrooms   price\n",
       "0  1056         2   39.07\n",
       "1  2600         4  120.00\n",
       "2  1440         3   62.00\n",
       "3  1521         3   75.00\n",
       "4  1200         2   51.00"
      ]
     },
     "execution_count": 3,
     "metadata": {},
     "output_type": "execute_result"
    }
   ],
   "source": [
    "df = pd.read_csv(\"homeprices_banglore.csv\")\n",
    "df.head()"
   ]
  },
  {
   "cell_type": "code",
   "execution_count": 4,
   "id": "389272ed",
   "metadata": {},
   "outputs": [],
   "source": [
    "X = df.drop('price', axis='columns')\n",
    "y = df.price"
   ]
  },
  {
   "cell_type": "code",
   "execution_count": 5,
   "id": "093a1875",
   "metadata": {},
   "outputs": [
    {
     "data": {
      "text/html": [
       "<div>\n",
       "<style scoped>\n",
       "    .dataframe tbody tr th:only-of-type {\n",
       "        vertical-align: middle;\n",
       "    }\n",
       "\n",
       "    .dataframe tbody tr th {\n",
       "        vertical-align: top;\n",
       "    }\n",
       "\n",
       "    .dataframe thead th {\n",
       "        text-align: right;\n",
       "    }\n",
       "</style>\n",
       "<table border=\"1\" class=\"dataframe\">\n",
       "  <thead>\n",
       "    <tr style=\"text-align: right;\">\n",
       "      <th></th>\n",
       "      <th>area</th>\n",
       "      <th>bedrooms</th>\n",
       "    </tr>\n",
       "  </thead>\n",
       "  <tbody>\n",
       "    <tr>\n",
       "      <th>3</th>\n",
       "      <td>1521</td>\n",
       "      <td>3</td>\n",
       "    </tr>\n",
       "    <tr>\n",
       "      <th>12</th>\n",
       "      <td>1000</td>\n",
       "      <td>2</td>\n",
       "    </tr>\n",
       "  </tbody>\n",
       "</table>\n",
       "</div>"
      ],
      "text/plain": [
       "    area  bedrooms\n",
       "3   1521         3\n",
       "12  1000         2"
      ]
     },
     "execution_count": 5,
     "metadata": {},
     "output_type": "execute_result"
    }
   ],
   "source": [
    "X.sample(2)"
   ]
  },
  {
   "cell_type": "code",
   "execution_count": 6,
   "id": "fa19e096",
   "metadata": {},
   "outputs": [
    {
     "data": {
      "text/plain": [
       "1     120.0\n",
       "3      75.0\n",
       "16     48.0\n",
       "Name: price, dtype: float64"
      ]
     },
     "execution_count": 6,
     "metadata": {},
     "output_type": "execute_result"
    }
   ],
   "source": [
    "y.sample(3)"
   ]
  },
  {
   "cell_type": "code",
   "execution_count": 7,
   "id": "436d217d",
   "metadata": {},
   "outputs": [],
   "source": [
    "scaler = MinMaxScaler()\n",
    "X_scaler = scaler.fit_transform(X)\n",
    "y_scaler = scaler.fit_transform(y.values.reshape(df.shape[0], 1))"
   ]
  },
  {
   "cell_type": "code",
   "execution_count": 8,
   "id": "abb91b20",
   "metadata": {},
   "outputs": [
    {
     "data": {
      "text/plain": [
       "array([[0.08827586, 0.25      ],\n",
       "       [0.62068966, 0.75      ],\n",
       "       [0.22068966, 0.5       ]])"
      ]
     },
     "execution_count": 8,
     "metadata": {},
     "output_type": "execute_result"
    }
   ],
   "source": [
    "X_scaler[:3]"
   ]
  },
  {
   "cell_type": "code",
   "execution_count": 47,
   "id": "9c5b297a",
   "metadata": {},
   "outputs": [
    {
     "data": {
      "text/plain": [
       "array([[0.05237037],\n",
       "       [0.65185185],\n",
       "       [0.22222222]])"
      ]
     },
     "execution_count": 47,
     "metadata": {},
     "output_type": "execute_result"
    }
   ],
   "source": [
    "y_scaler[:3]"
   ]
  },
  {
   "cell_type": "markdown",
   "id": "b870eb43",
   "metadata": {},
   "source": [
    "# FOR STOCHASTIC GRADIENT DESCENT"
   ]
  },
  {
   "cell_type": "code",
   "execution_count": 42,
   "id": "895a36f1",
   "metadata": {},
   "outputs": [],
   "source": [
    "def gradientDescentSGD(X, y_true):\n",
    "    W = np.ones(X.shape[1])\n",
    "    bias = 0\n",
    "    n = len(X)\n",
    "    learning_rate = 0.01\n",
    "    \n",
    "    cost_ = []\n",
    "    epoch_ = []\n",
    "    \n",
    "    for i in range(500):    \n",
    "        y_pred = X.dot(W) + bias\n",
    "        \n",
    "        dw = -(2/n)*(X.T.dot(y_true - y_pred))\n",
    "        db = -(2/n)*np.mean(y_pred-y_true)\n",
    "        \n",
    "        cost = np.mean(np.square(y_pred-y_true))\n",
    "        \n",
    "        W = W - learning_rate*dw\n",
    "        bias = bias - learning_rate*db\n",
    "        \n",
    "        if i%10 == 0:\n",
    "            cost_.append(cost)\n",
    "            epoch_.append(i)\n",
    "    \n",
    "    return cost_, epoch_\n",
    "    \n",
    "cost_, epoch_ = gradientDescentSGD(X_scaler, y_scaler.reshape(y_scaler.shape[0]))"
   ]
  },
  {
   "cell_type": "code",
   "execution_count": 43,
   "id": "5f9c7680",
   "metadata": {},
   "outputs": [
    {
     "data": {
      "text/plain": [
       "[<matplotlib.lines.Line2D at 0x1c4dbb51190>]"
      ]
     },
     "execution_count": 43,
     "metadata": {},
     "output_type": "execute_result"
    },
    {
     "data": {
      "image/png": "[encoded data removed]",
      "text/plain": [
       "<Figure size 200x200 with 1 Axes>"
      ]
     },
     "metadata": {},
     "output_type": "display_data"
    }
   ],
   "source": [
    "plt.figure(figsize=(2, 2))\n",
    "plt.plot(epoch_, cost_)"
   ]
  },
  {
   "cell_type": "markdown",
   "id": "e00e9e3c",
   "metadata": {},
   "source": [
    "# FOR BATCH GRADIENT DESCENT"
   ]
  },
  {
   "cell_type": "code",
   "execution_count": 58,
   "id": "3ad8a847",
   "metadata": {},
   "outputs": [],
   "source": [
    "def gradientDescentBatch(X, y_true):\n",
    "    W = np.ones(X.shape[1])\n",
    "    bias = 0\n",
    "    n = len(X)\n",
    "    learning_rate = 0.01\n",
    "    \n",
    "    cost_ = []\n",
    "    epoch_ = []\n",
    "    \n",
    "    for i in range(500):\n",
    "        X_ = X[random.randint(0, n-1)]\n",
    "        y_true_ = y_true[random.randint(0, n-1)]\n",
    "        \n",
    "        y_pred = X_.dot(W) + bias\n",
    "        \n",
    "        dw = -(2/n)*(X_.T.dot(y_true_ - y_pred))\n",
    "        db = -(2/n)*np.mean(y_pred-y_true_)\n",
    "        \n",
    "        cost = np.mean(np.square(y_pred-y_true_))\n",
    "        \n",
    "        W = W - learning_rate*dw\n",
    "        bias = bias - learning_rate*db\n",
    "        \n",
    "        if i%10 == 0:\n",
    "            cost_.append(cost)\n",
    "            epoch_.append(i)\n",
    "    \n",
    "    return cost_, epoch_\n",
    "    \n",
    "cost_, epoch_ = gradientDescentBatch(X_scaler, y_scaler.reshape(y_scaler.shape[0]))"
   ]
  },
  {
   "cell_type": "code",
   "execution_count": 59,
   "id": "4e377cd9",
   "metadata": {},
   "outputs": [
    {
     "data": {
      "text/plain": [
       "[<matplotlib.lines.Line2D at 0x1c4dcb054d0>]"
      ]
     },
     "execution_count": 59,
     "metadata": {},
     "output_type": "execute_result"
    },
    {
     "data": {
      "image/png": "[encoded data removed]",
      "text/plain": [
       "<Figure size 200x200 with 1 Axes>"
      ]
     },
     "metadata": {},
     "output_type": "display_data"
    }
   ],
   "source": [
    "plt.figure(figsize=(2, 2))\n",
    "plt.plot(epoch_, cost_)"
   ]
  },
  {
   "cell_type": "code",
   "execution_count": null,
   "id": "cc02537b",
   "metadata": {},
   "outputs": [],
   "source": []
  }
 ],
 "metadata": {
  "kernelspec": {
   "display_name": "Python 3 (ipykernel)",
   "language": "python",
   "name": "python3"
  },
  "language_info": {
   "codemirror_mode": {
    "name": "ipython",
    "version": 3
   },
   "file_extension": ".py",
   "mimetype": "text/x-python",
   "name": "python",
   "nbconvert_exporter": "python",
   "pygments_lexer": "ipython3",
   "version": "3.11.5"
  }
 },
 "nbformat": 4,
 "nbformat_minor": 5
}
